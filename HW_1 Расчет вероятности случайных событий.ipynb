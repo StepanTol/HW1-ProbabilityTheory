{
 "cells": [
  {
   "cell_type": "markdown",
   "id": "f3623cab",
   "metadata": {},
   "source": [
    "### Задача 1. \n",
    "Из колоды в 52 карты извлекаются случайным образом 4 карты. \n",
    "\n",
    "a) Найти вероятность того, что все 4 карты – крести. "
   ]
  },
  {
   "cell_type": "markdown",
   "id": "fa1afa0e",
   "metadata": {},
   "source": [
    "Вероятность события выичсляется как отношение m/n. Где m - число благоприятствующих исходов, n - общее число исходов.\n",
    "Так как порядок карт с мастью крести нам не важен, используем формулу сочетания."
   ]
  },
  {
   "cell_type": "markdown",
   "id": "f37dd99a",
   "metadata": {},
   "source": [
    "from math import factorial\n",
    "def combinations(k, n1):\n",
    "    return factorial(n1)/(factorial(k) * factorial(n1 - k))"
   ]
  },
  {
   "cell_type": "markdown",
   "id": "9a944e46",
   "metadata": {},
   "source": [
    "Вычислим m. Так как всего карт 52 а масти 4, получается что на одну масть приходится 13 карт. k = 4, так как балгоприятствующий исход - когда все 4 карты будут с мастью крести, а n1 = 13, так как выбирать мы должны из одной масти."
   ]
  },
  {
   "cell_type": "code",
   "execution_count": 15,
   "id": "3914c610",
   "metadata": {},
   "outputs": [],
   "source": [
    "m = combinations(4, 13)"
   ]
  },
  {
   "cell_type": "code",
   "execution_count": 16,
   "id": "d2f82b89",
   "metadata": {},
   "outputs": [
    {
     "data": {
      "text/plain": [
       "715.0"
      ]
     },
     "execution_count": 16,
     "metadata": {},
     "output_type": "execute_result"
    }
   ],
   "source": [
    "m"
   ]
  },
  {
   "cell_type": "markdown",
   "id": "f63c1d9d",
   "metadata": {},
   "source": [
    "Вычислим n. Так как всего карт 52 а масти 4, получается что на одну масть приходится 13 карт. Следовательно n = k/n1, где k = 4, так как всего у нас 4 масти в колоде, а n1 - 52, так как всего 52 карты в колоде."
   ]
  },
  {
   "cell_type": "code",
   "execution_count": 17,
   "id": "ba0112ef",
   "metadata": {},
   "outputs": [],
   "source": [
    "n = combinations(4, 52)"
   ]
  },
  {
   "cell_type": "code",
   "execution_count": 18,
   "id": "c7dc9eca",
   "metadata": {},
   "outputs": [
    {
     "data": {
      "text/plain": [
       "270725.0"
      ]
     },
     "execution_count": 18,
     "metadata": {},
     "output_type": "execute_result"
    }
   ],
   "source": [
    "n"
   ]
  },
  {
   "cell_type": "markdown",
   "id": "e628a71d",
   "metadata": {},
   "source": [
    "Тогда вероятность того, что все 4 карты окажутся крести будет равна отношению:"
   ]
  },
  {
   "cell_type": "code",
   "execution_count": 19,
   "id": "9362bd44",
   "metadata": {},
   "outputs": [
    {
     "data": {
      "text/plain": [
       "0.0026410564225690276"
      ]
     },
     "execution_count": 19,
     "metadata": {},
     "output_type": "execute_result"
    }
   ],
   "source": [
    "m/n"
   ]
  },
  {
   "cell_type": "markdown",
   "id": "b436c348",
   "metadata": {},
   "source": [
    "P = 0.3 %"
   ]
  },
  {
   "cell_type": "markdown",
   "id": "3aafad6e",
   "metadata": {},
   "source": [
    "б) Найти вероятность, что среди 4-х карт окажется хотя бы один туз."
   ]
  },
  {
   "cell_type": "markdown",
   "id": "b50c3098",
   "metadata": {},
   "source": [
    "Сумма вероятности противоположных событий равна 1. А значит P1 + P2 = 1, где P1 - вероятность того, что среди 4-х карт окажется хотя бы один туз, P2 - вероятность того что среди 4-х карт не будет ни одного туза. \n",
    "А значит P1 = 1 - P2\n",
    "\n",
    "Найдем P2 по формуле P = m/n"
   ]
  },
  {
   "cell_type": "code",
   "execution_count": 55,
   "id": "dae1a05f",
   "metadata": {},
   "outputs": [],
   "source": [
    "from math import factorial\n",
    "def combinations(k, n1):\n",
    "    return factorial(n1)/(factorial(k) * factorial(n1 - k))"
   ]
  },
  {
   "cell_type": "markdown",
   "id": "fe43ad70",
   "metadata": {},
   "source": [
    "Вычислим m.  где k = 4, а n1 = 48, так как благоприятствующий исход когда мы не вытянем ни одного туза из колоды, то есть когда наш выбор будепт сделан из 52 - 4 = 48 карт."
   ]
  },
  {
   "cell_type": "code",
   "execution_count": 30,
   "id": "ea9ff04a",
   "metadata": {},
   "outputs": [],
   "source": [
    "m = combinations(4, 48)"
   ]
  },
  {
   "cell_type": "code",
   "execution_count": 31,
   "id": "84a46346",
   "metadata": {},
   "outputs": [
    {
     "data": {
      "text/plain": [
       "194580.0"
      ]
     },
     "execution_count": 31,
     "metadata": {},
     "output_type": "execute_result"
    }
   ],
   "source": [
    "m"
   ]
  },
  {
   "cell_type": "markdown",
   "id": "26457c11",
   "metadata": {},
   "source": [
    "Вычислим n. где k = 4, n1 = 52 так как в общем случае мы тянем 4 карты из полной колоды. "
   ]
  },
  {
   "cell_type": "code",
   "execution_count": 32,
   "id": "5d0a8850",
   "metadata": {},
   "outputs": [],
   "source": [
    "n = combinations(4, 52)"
   ]
  },
  {
   "cell_type": "code",
   "execution_count": 33,
   "id": "6dfc817e",
   "metadata": {},
   "outputs": [
    {
     "data": {
      "text/plain": [
       "270725.0"
      ]
     },
     "execution_count": 33,
     "metadata": {},
     "output_type": "execute_result"
    }
   ],
   "source": [
    "n"
   ]
  },
  {
   "cell_type": "markdown",
   "id": "40a11786",
   "metadata": {},
   "source": [
    "Тогда вероятность того, что мы не вытянем ни одного туза:"
   ]
  },
  {
   "cell_type": "code",
   "execution_count": 49,
   "id": "8bd247db",
   "metadata": {},
   "outputs": [],
   "source": [
    "P2 = m/n"
   ]
  },
  {
   "cell_type": "code",
   "execution_count": 50,
   "id": "4ec67652",
   "metadata": {},
   "outputs": [
    {
     "data": {
      "text/plain": [
       "0.7187367254594146"
      ]
     },
     "execution_count": 50,
     "metadata": {},
     "output_type": "execute_result"
    }
   ],
   "source": [
    "P2"
   ]
  },
  {
   "cell_type": "markdown",
   "id": "4b484367",
   "metadata": {},
   "source": [
    "А вероятность что среди 4-х карт окажется хотя бы один туз будет равна:"
   ]
  },
  {
   "cell_type": "code",
   "execution_count": 51,
   "id": "93b013c3",
   "metadata": {},
   "outputs": [],
   "source": [
    "P1 = 1 - m/n"
   ]
  },
  {
   "cell_type": "code",
   "execution_count": 52,
   "id": "2b5a71bb",
   "metadata": {},
   "outputs": [
    {
     "data": {
      "text/plain": [
       "0.2812632745405854"
      ]
     },
     "execution_count": 52,
     "metadata": {},
     "output_type": "execute_result"
    }
   ],
   "source": [
    "P1"
   ]
  },
  {
   "cell_type": "markdown",
   "id": "b888394e",
   "metadata": {},
   "source": [
    "P1 = 28.1 %"
   ]
  },
  {
   "cell_type": "markdown",
   "id": "80c60a3a",
   "metadata": {},
   "source": [
    "### Задача 2. \n",
    "На входной двери подъезда установлен кодовый замок, содержащий десять кнопок с цифрами от 0 до 9. Код содержит три цифры, которые нужно нажать одновременно . Какова вероятность того, что человек, не знающий код, откроет дверь с первой попытки?"
   ]
  },
  {
   "cell_type": "markdown",
   "id": "2f13d08d",
   "metadata": {},
   "source": [
    "P = m/n"
   ]
  },
  {
   "cell_type": "markdown",
   "id": "2eb04bf9",
   "metadata": {},
   "source": [
    "m = 1, так как есть всего лишь 1 благоприятный исход - человек откроет дверь с первой попытки. \n",
    "А вот n будем считать по формуле сочентания, так как порядок цифр нам не важен потому что нажимать их нужно одновременно:"
   ]
  },
  {
   "cell_type": "code",
   "execution_count": 54,
   "id": "d2cbd3d5",
   "metadata": {},
   "outputs": [],
   "source": [
    "from math import factorial\n",
    "def combinations(k, n1):\n",
    "    return factorial(n)/(factorial(k) * factorial(n - k))"
   ]
  },
  {
   "cell_type": "markdown",
   "id": "58532376",
   "metadata": {},
   "source": [
    "где k = 3, так как человеку нужно выбрать и нажать три цифры, а n1 = 10, так как цифр на замке десять. "
   ]
  },
  {
   "cell_type": "code",
   "execution_count": 60,
   "id": "6ab47592",
   "metadata": {},
   "outputs": [],
   "source": [
    "n = combinations(3, 10)"
   ]
  },
  {
   "cell_type": "code",
   "execution_count": 61,
   "id": "952c7b83",
   "metadata": {},
   "outputs": [
    {
     "data": {
      "text/plain": [
       "120.0"
      ]
     },
     "execution_count": 61,
     "metadata": {},
     "output_type": "execute_result"
    }
   ],
   "source": [
    "n"
   ]
  },
  {
   "cell_type": "code",
   "execution_count": 70,
   "id": "18f44189",
   "metadata": {},
   "outputs": [],
   "source": [
    "P = 1/n"
   ]
  },
  {
   "cell_type": "code",
   "execution_count": 71,
   "id": "4e7d2a28",
   "metadata": {},
   "outputs": [
    {
     "data": {
      "text/plain": [
       "0.008333333333333333"
      ]
     },
     "execution_count": 71,
     "metadata": {},
     "output_type": "execute_result"
    }
   ],
   "source": [
    "P"
   ]
  },
  {
   "cell_type": "markdown",
   "id": "e93515ae",
   "metadata": {},
   "source": [
    "Вероятность открытия замка с первой попытки составляет P = 0.83 %"
   ]
  },
  {
   "cell_type": "markdown",
   "id": "fb23eb7b",
   "metadata": {},
   "source": [
    "### Задача 3.\n",
    "В ящике имеется 15 деталей, из которых 9 окрашены. Рабочий случайным образом извлекает 3 детали. Какова вероятность того, что все 3 извлеченные детали окрашены?"
   ]
  },
  {
   "cell_type": "markdown",
   "id": "85fb954e",
   "metadata": {},
   "source": [
    "P = m/n, где m и n считаем по формуле сочетания, так как порядок нам не важен:"
   ]
  },
  {
   "cell_type": "code",
   "execution_count": 75,
   "id": "3a7fa736",
   "metadata": {},
   "outputs": [],
   "source": [
    "from math import factorial\n",
    "def combinations(k, n1):\n",
    "    return factorial(n1)/(factorial(k) * factorial(n1 - k))"
   ]
  },
  {
   "cell_type": "markdown",
   "id": "d95ad24e",
   "metadata": {},
   "source": [
    "Рассчитаем m. Количество окрашенных деталей 9, а значит в благоприятном случае мы должны выбрать все 3 детали из этих 9. Следовательно k = 3, n1 = 9"
   ]
  },
  {
   "cell_type": "code",
   "execution_count": 76,
   "id": "36cdab62",
   "metadata": {},
   "outputs": [],
   "source": [
    "m = combinations(3, 9)"
   ]
  },
  {
   "cell_type": "code",
   "execution_count": 77,
   "id": "dc0358a4",
   "metadata": {},
   "outputs": [
    {
     "data": {
      "text/plain": [
       "84.0"
      ]
     },
     "execution_count": 77,
     "metadata": {},
     "output_type": "execute_result"
    }
   ],
   "source": [
    "m"
   ]
  },
  {
   "cell_type": "markdown",
   "id": "c6362065",
   "metadata": {},
   "source": [
    "Рассчитаем n. Количество всех деталей 15, а значит в общем случае мы будем выбирать 3 детали из всех 15. Следовательно k = 3, n1 = 15"
   ]
  },
  {
   "cell_type": "code",
   "execution_count": 78,
   "id": "fd0a00e3",
   "metadata": {},
   "outputs": [],
   "source": [
    "n = combinations(3, 15)"
   ]
  },
  {
   "cell_type": "code",
   "execution_count": 79,
   "id": "861fec4c",
   "metadata": {},
   "outputs": [
    {
     "data": {
      "text/plain": [
       "455.0"
      ]
     },
     "execution_count": 79,
     "metadata": {},
     "output_type": "execute_result"
    }
   ],
   "source": [
    "n"
   ]
  },
  {
   "cell_type": "code",
   "execution_count": 80,
   "id": "bcdf04c6",
   "metadata": {},
   "outputs": [],
   "source": [
    "P = m/n"
   ]
  },
  {
   "cell_type": "code",
   "execution_count": 81,
   "id": "a9b3c2de",
   "metadata": {},
   "outputs": [
    {
     "data": {
      "text/plain": [
       "0.18461538461538463"
      ]
     },
     "execution_count": 81,
     "metadata": {},
     "output_type": "execute_result"
    }
   ],
   "source": [
    "P"
   ]
  },
  {
   "cell_type": "markdown",
   "id": "b9db7617",
   "metadata": {},
   "source": [
    "Вероятность достать 3 окрашенных детали равна 18.5 %"
   ]
  },
  {
   "cell_type": "markdown",
   "id": "5322852f",
   "metadata": {},
   "source": [
    "### Задача 4. \n",
    "В лотерее 100 билетов. Из них 2 выигрышных. Какова вероятность того, что 2 приобретенных билета окажутся выигрышными?"
   ]
  },
  {
   "cell_type": "markdown",
   "id": "a1e51426",
   "metadata": {},
   "source": [
    "P = m/n, где m и n считаем по формуле сочетания, так как порядок нам не важен:"
   ]
  },
  {
   "cell_type": "code",
   "execution_count": 82,
   "id": "93057d37",
   "metadata": {},
   "outputs": [],
   "source": [
    "from math import factorial\n",
    "def combinations(k, n1):\n",
    "    return factorial(n1)/(factorial(k) * factorial(n1 - k))"
   ]
  },
  {
   "cell_type": "markdown",
   "id": "9e0814b2",
   "metadata": {},
   "source": [
    "m = 1, так как у нас только один благоприятный исход при котором достанем два выигрышных билета из двух."
   ]
  },
  {
   "cell_type": "markdown",
   "id": "0cdadaed",
   "metadata": {},
   "source": [
    "Рассчитаем n. k = 2, n1 = 100, так как в общем случае тянем два билета из всех возможных вариантов."
   ]
  },
  {
   "cell_type": "code",
   "execution_count": 83,
   "id": "4e7df4a0",
   "metadata": {},
   "outputs": [],
   "source": [
    "n = combinations(2, 100)"
   ]
  },
  {
   "cell_type": "code",
   "execution_count": 84,
   "id": "a252f262",
   "metadata": {},
   "outputs": [
    {
     "data": {
      "text/plain": [
       "4950.0"
      ]
     },
     "execution_count": 84,
     "metadata": {},
     "output_type": "execute_result"
    }
   ],
   "source": [
    "n"
   ]
  },
  {
   "cell_type": "code",
   "execution_count": 85,
   "id": "7d3b0958",
   "metadata": {},
   "outputs": [],
   "source": [
    "P = 1/n"
   ]
  },
  {
   "cell_type": "code",
   "execution_count": 86,
   "id": "33ff6a64",
   "metadata": {},
   "outputs": [
    {
     "data": {
      "text/plain": [
       "0.00020202020202020202"
      ]
     },
     "execution_count": 86,
     "metadata": {},
     "output_type": "execute_result"
    }
   ],
   "source": [
    "P"
   ]
  },
  {
   "cell_type": "markdown",
   "id": "78df7ce4",
   "metadata": {},
   "source": [
    "Вероятность вытянуть два выигрышных билета равна 0.02 %"
   ]
  },
  {
   "cell_type": "code",
   "execution_count": null,
   "id": "243ba494",
   "metadata": {},
   "outputs": [],
   "source": []
  }
 ],
 "metadata": {
  "kernelspec": {
   "display_name": "Python 3 (ipykernel)",
   "language": "python",
   "name": "python3"
  },
  "language_info": {
   "codemirror_mode": {
    "name": "ipython",
    "version": 3
   },
   "file_extension": ".py",
   "mimetype": "text/x-python",
   "name": "python",
   "nbconvert_exporter": "python",
   "pygments_lexer": "ipython3",
   "version": "3.10.9"
  }
 },
 "nbformat": 4,
 "nbformat_minor": 5
}
