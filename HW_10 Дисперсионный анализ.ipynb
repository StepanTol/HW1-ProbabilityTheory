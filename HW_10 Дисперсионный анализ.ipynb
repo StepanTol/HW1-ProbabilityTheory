{
 "cells": [
  {
   "cell_type": "code",
   "execution_count": 30,
   "id": "2799cf08",
   "metadata": {},
   "outputs": [],
   "source": [
    "import pandas as pd\n",
    "import numpy as np\n",
    "import matplotlib.pyplot as plt\n",
    "from scipy import stats\n",
    "from statsmodels.stats.multicomp import pairwise_tukeyhsd"
   ]
  },
  {
   "cell_type": "markdown",
   "id": "a075612b",
   "metadata": {},
   "source": [
    "### Задача 1\n",
    "Провести дисперсионный анализ для определения того, есть ли различия среднего роста среди взрослых футболистов, хоккеистов и штангистов. Даны значения роста в трех группах случайно выбранных спортсменов: \n",
    "\n",
    "Футболисты: 173, 175, 180, 178, 177, 185, 183, 182. \n",
    "\n",
    "Хоккеисты: 177, 179, 180, 188, 177, 172, 171, 184, 180. \n",
    "\n",
    "Штангисты: 172, 173, 169, 177, 166, 180, 178, 177, 172, 166, 170."
   ]
  },
  {
   "cell_type": "code",
   "execution_count": 31,
   "id": "981b63cf",
   "metadata": {},
   "outputs": [],
   "source": [
    "football = np.array([173, 175, 180, 178, 177, 185, 183, 182])\n",
    "hockey = np.array([177, 179, 180, 188, 177, 172, 171, 184, 180])\n",
    "weightlifter = np.array([172, 173, 169, 177, 166, 180, 178, 177, 172, 166, 170])"
   ]
  },
  {
   "cell_type": "markdown",
   "id": "64577a55",
   "metadata": {},
   "source": [
    "Проверим выборки на нормальность с помощьютеста Шапиро-Уилка:"
   ]
  },
  {
   "cell_type": "code",
   "execution_count": 32,
   "id": "7b5f0dee",
   "metadata": {},
   "outputs": [
    {
     "data": {
      "text/plain": [
       "ShapiroResult(statistic=0.9775082468986511, pvalue=0.9495404362678528)"
      ]
     },
     "execution_count": 32,
     "metadata": {},
     "output_type": "execute_result"
    }
   ],
   "source": [
    "stats.shapiro(football)"
   ]
  },
  {
   "cell_type": "code",
   "execution_count": 33,
   "id": "3dbdd68f",
   "metadata": {},
   "outputs": [
    {
     "data": {
      "text/plain": [
       "ShapiroResult(statistic=0.9579196572303772, pvalue=0.7763139009475708)"
      ]
     },
     "execution_count": 33,
     "metadata": {},
     "output_type": "execute_result"
    }
   ],
   "source": [
    "stats.shapiro(hockey)"
   ]
  },
  {
   "cell_type": "code",
   "execution_count": 34,
   "id": "3ba076c8",
   "metadata": {},
   "outputs": [
    {
     "data": {
      "text/plain": [
       "ShapiroResult(statistic=0.9386808276176453, pvalue=0.5051165223121643)"
      ]
     },
     "execution_count": 34,
     "metadata": {},
     "output_type": "execute_result"
    }
   ],
   "source": [
    "stats.shapiro(weightlifter)"
   ]
  },
  {
   "cell_type": "markdown",
   "id": "5687460a",
   "metadata": {},
   "source": [
    "У всех выборок pvalue > alpha, а значит верна нулевая гипотеза и распределения нормальные.\n",
    "Так 3 выборки применим критерий Фишера для анализа, но перед этим прверим равенство дисперсий по критерию Бартлета:"
   ]
  },
  {
   "cell_type": "code",
   "execution_count": 35,
   "id": "bffc6a94",
   "metadata": {},
   "outputs": [
    {
     "data": {
      "text/plain": [
       "BartlettResult(statistic=0.4640521043406442, pvalue=0.7929254656083131)"
      ]
     },
     "execution_count": 35,
     "metadata": {},
     "output_type": "execute_result"
    }
   ],
   "source": [
    "stats.bartlett(football, hockey, weightlifter)"
   ]
  },
  {
   "cell_type": "markdown",
   "id": "8e63a188",
   "metadata": {},
   "source": [
    "Дисперсии равны, а значит можем использовать критерий Фишера:"
   ]
  },
  {
   "cell_type": "code",
   "execution_count": 36,
   "id": "ad5704bf",
   "metadata": {},
   "outputs": [
    {
     "data": {
      "text/plain": [
       "F_onewayResult(statistic=5.500053450812596, pvalue=0.010482206918698694)"
      ]
     },
     "execution_count": 36,
     "metadata": {},
     "output_type": "execute_result"
    }
   ],
   "source": [
    "f = stats.f_oneway(football, hockey, weightlifter)\n",
    "f"
   ]
  },
  {
   "cell_type": "markdown",
   "id": "30b01e4e",
   "metadata": {},
   "source": [
    "Есть статистически значимые различия"
   ]
  },
  {
   "cell_type": "code",
   "execution_count": null,
   "id": "f8b56528",
   "metadata": {},
   "outputs": [],
   "source": []
  }
 ],
 "metadata": {
  "kernelspec": {
   "display_name": "Python 3 (ipykernel)",
   "language": "python",
   "name": "python3"
  },
  "language_info": {
   "codemirror_mode": {
    "name": "ipython",
    "version": 3
   },
   "file_extension": ".py",
   "mimetype": "text/x-python",
   "name": "python",
   "nbconvert_exporter": "python",
   "pygments_lexer": "ipython3",
   "version": "3.10.9"
  }
 },
 "nbformat": 4,
 "nbformat_minor": 5
}
