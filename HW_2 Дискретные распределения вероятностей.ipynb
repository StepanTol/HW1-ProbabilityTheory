{
 "cells": [
  {
   "cell_type": "markdown",
   "id": "f7e1a967",
   "metadata": {},
   "source": [
    "### Задача 1 \n",
    "Вероятность того, что стрелок попадет в мишень, выстрелив один раз, равна 0.8. Стрелок выстрелил 100 раз. Найдите вероятность того, что стрелок попадет в цель ровно 85 раз."
   ]
  },
  {
   "cell_type": "code",
   "execution_count": 5,
   "id": "f2076f1b",
   "metadata": {},
   "outputs": [],
   "source": [
    "from math import factorial\n",
    "from math import e"
   ]
  },
  {
   "cell_type": "markdown",
   "id": "36e7c982",
   "metadata": {},
   "source": [
    "Так как количество испытаний маленькое, события независимы, а вероятность события большая используем биномиальное распределение. k = 85, n1 = 100, p = 0.8, q = 1-p = 0.2"
   ]
  },
  {
   "cell_type": "code",
   "execution_count": 6,
   "id": "81c90995",
   "metadata": {},
   "outputs": [],
   "source": [
    "def combinations(k, n1, p):\n",
    "    return (factorial(n1)/(factorial(k) * factorial(n1 - k))) * (p ** k) * ((1 - p) ** (n1 - k))"
   ]
  },
  {
   "cell_type": "code",
   "execution_count": 7,
   "id": "d4ff7e75",
   "metadata": {},
   "outputs": [],
   "source": [
    "P = combinations(85, 100, 0.8)"
   ]
  },
  {
   "cell_type": "code",
   "execution_count": 8,
   "id": "c4a6a123",
   "metadata": {},
   "outputs": [
    {
     "data": {
      "text/plain": [
       "0.048061793700746355"
      ]
     },
     "execution_count": 8,
     "metadata": {},
     "output_type": "execute_result"
    }
   ],
   "source": [
    "P"
   ]
  },
  {
   "cell_type": "markdown",
   "id": "259d663e",
   "metadata": {},
   "source": [
    "Вероятность того, что стрелок попадет в цель ровно 85 раз из ста выстрелов равняется примерно 4.8 %."
   ]
  },
  {
   "cell_type": "markdown",
   "id": "75be4253",
   "metadata": {},
   "source": [
    "### Задача 2 \n",
    "Вероятность того, что лампочка перегорит в течение первого дня эксплуатации, равна 0.0004. В жилом комплексе после ремонта в один день включили 5000 новых лампочек. Какова вероятность, что ни одна из них не перегорит в первый день? Какова вероятность, что перегорят ровно две?"
   ]
  },
  {
   "cell_type": "markdown",
   "id": "6a218a5a",
   "metadata": {},
   "source": [
    "Количество испытаний большое, вероятность маленькая - будем использовать распределение Пуассона. Где n = 5000, p = 0.0004, lambda = n * p = 2"
   ]
  },
  {
   "cell_type": "code",
   "execution_count": 9,
   "id": "525d4bab",
   "metadata": {},
   "outputs": [],
   "source": [
    "def combinations(n, p, m):\n",
    "    return (((n * p)** m)/(factorial(m))) * e**(-n*p)"
   ]
  },
  {
   "cell_type": "code",
   "execution_count": 10,
   "id": "c6e3e282",
   "metadata": {},
   "outputs": [],
   "source": [
    "P = combinations(5000, 0.0004, 0)"
   ]
  },
  {
   "cell_type": "code",
   "execution_count": 11,
   "id": "f75b9c35",
   "metadata": {},
   "outputs": [
    {
     "data": {
      "text/plain": [
       "0.1353352832366127"
      ]
     },
     "execution_count": 11,
     "metadata": {},
     "output_type": "execute_result"
    }
   ],
   "source": [
    "P"
   ]
  },
  {
   "cell_type": "markdown",
   "id": "a568928f",
   "metadata": {},
   "source": [
    "Вероятность что не перегорит ни одна из лампочек равняется 13.5 %"
   ]
  },
  {
   "cell_type": "code",
   "execution_count": 12,
   "id": "6455a70f",
   "metadata": {},
   "outputs": [],
   "source": [
    "P = combinations(5000, 0.0004, 2)"
   ]
  },
  {
   "cell_type": "code",
   "execution_count": 13,
   "id": "e7c9d411",
   "metadata": {},
   "outputs": [
    {
     "data": {
      "text/plain": [
       "0.2706705664732254"
      ]
     },
     "execution_count": 13,
     "metadata": {},
     "output_type": "execute_result"
    }
   ],
   "source": [
    "P"
   ]
  },
  {
   "cell_type": "markdown",
   "id": "bf5f56b5",
   "metadata": {},
   "source": [
    "Вероятность что перегорит ровно две лампочки равняется 27.1 %"
   ]
  },
  {
   "cell_type": "markdown",
   "id": "ce95a062",
   "metadata": {},
   "source": [
    "### Задача 3 \n",
    "Монету подбросили 144 раза. Какова вероятность, что орел выпадет ровно 70 раз?"
   ]
  },
  {
   "cell_type": "markdown",
   "id": "17c89f77",
   "metadata": {},
   "source": [
    "Используем биномиальное распределение. k = 70, n1 = 144, p = 0.5, q = 1-p = 0.5"
   ]
  },
  {
   "cell_type": "code",
   "execution_count": 14,
   "id": "d4d725a6",
   "metadata": {},
   "outputs": [],
   "source": [
    "def combinations(k, n1, p):\n",
    "    return (factorial(n1)/(factorial(k) * factorial(n1 - k))) * (p ** k) * ((1 - p) ** (n1 - k))"
   ]
  },
  {
   "cell_type": "code",
   "execution_count": 15,
   "id": "71c7ac85",
   "metadata": {},
   "outputs": [],
   "source": [
    "P = combinations(70, 144, 0.5)"
   ]
  },
  {
   "cell_type": "code",
   "execution_count": 16,
   "id": "d1f795d3",
   "metadata": {},
   "outputs": [
    {
     "data": {
      "text/plain": [
       "0.06281178035144776"
      ]
     },
     "execution_count": 16,
     "metadata": {},
     "output_type": "execute_result"
    }
   ],
   "source": [
    "P"
   ]
  },
  {
   "cell_type": "markdown",
   "id": "5ebdee3d",
   "metadata": {},
   "source": [
    "Вероятность того что орел выпадет 70 раз при 144 бросках примерно равна 6.3 %"
   ]
  },
  {
   "cell_type": "markdown",
   "id": "da341918",
   "metadata": {},
   "source": [
    "### Задача 4 \n",
    "В первом ящике находится 10 мячей, из которых 7 - белые. Во втором ящике - 11 мячей, из которых 9 белых. Из каждого ящика вытаскивают случайным образом по два мяча. \n",
    "Какова вероятность того, что все мячи белые?"
   ]
  },
  {
   "cell_type": "markdown",
   "id": "2e624970",
   "metadata": {},
   "source": [
    "P = m/n, где m - число благоприятных исходов, n - общее число исходов. \n",
    "Благоприятный исход - когда мы достали 2 белых в первой корзине и два белых во второй(то есть два из 7 в первой и два из 9 во второй). Общий исход когда достали два из 10 в первой и два из 11 во второй. Тогда вероятность того что все мячи белые будет равна произведению вероятности события A (достать два белых мяча из первой корзины) и вероятности события B (достать два белых мяча из второй корзины). То есть P = P(A) * P(B), P(A) = m1/n1, P(B) = m2/n2."
   ]
  },
  {
   "cell_type": "code",
   "execution_count": 19,
   "id": "957e9070",
   "metadata": {},
   "outputs": [],
   "source": [
    "def combinations(k, n1):\n",
    "    return factorial(n1)/(factorial(k) * factorial(n1 - k))"
   ]
  },
  {
   "cell_type": "code",
   "execution_count": 20,
   "id": "c046abf3",
   "metadata": {},
   "outputs": [],
   "source": [
    "m1 = combinations(2, 7)\n",
    "n1 = combinations(2,10)"
   ]
  },
  {
   "cell_type": "code",
   "execution_count": 21,
   "id": "2a396500",
   "metadata": {},
   "outputs": [
    {
     "data": {
      "text/plain": [
       "21.0"
      ]
     },
     "execution_count": 21,
     "metadata": {},
     "output_type": "execute_result"
    }
   ],
   "source": [
    "m1"
   ]
  },
  {
   "cell_type": "code",
   "execution_count": 22,
   "id": "f04b336f",
   "metadata": {},
   "outputs": [
    {
     "data": {
      "text/plain": [
       "45.0"
      ]
     },
     "execution_count": 22,
     "metadata": {},
     "output_type": "execute_result"
    }
   ],
   "source": [
    "n1"
   ]
  },
  {
   "cell_type": "code",
   "execution_count": 24,
   "id": "3c3dc858",
   "metadata": {},
   "outputs": [],
   "source": [
    "m2 = combinations(2, 9)\n",
    "n2 = combinations(2,11)"
   ]
  },
  {
   "cell_type": "code",
   "execution_count": 25,
   "id": "cbba18b5",
   "metadata": {},
   "outputs": [
    {
     "data": {
      "text/plain": [
       "36.0"
      ]
     },
     "execution_count": 25,
     "metadata": {},
     "output_type": "execute_result"
    }
   ],
   "source": [
    "m2"
   ]
  },
  {
   "cell_type": "code",
   "execution_count": 26,
   "id": "637e98b7",
   "metadata": {},
   "outputs": [
    {
     "data": {
      "text/plain": [
       "55.0"
      ]
     },
     "execution_count": 26,
     "metadata": {},
     "output_type": "execute_result"
    }
   ],
   "source": [
    "n2"
   ]
  },
  {
   "cell_type": "code",
   "execution_count": 27,
   "id": "af4fca94",
   "metadata": {},
   "outputs": [
    {
     "data": {
      "text/plain": [
       "0.4666666666666667"
      ]
     },
     "execution_count": 27,
     "metadata": {},
     "output_type": "execute_result"
    }
   ],
   "source": [
    "m1/n1"
   ]
  },
  {
   "cell_type": "code",
   "execution_count": 28,
   "id": "0edef0e6",
   "metadata": {},
   "outputs": [
    {
     "data": {
      "text/plain": [
       "0.6545454545454545"
      ]
     },
     "execution_count": 28,
     "metadata": {},
     "output_type": "execute_result"
    }
   ],
   "source": [
    "m2/n2"
   ]
  },
  {
   "cell_type": "code",
   "execution_count": 29,
   "id": "8ac14616",
   "metadata": {},
   "outputs": [
    {
     "data": {
      "text/plain": [
       "0.3054545454545455"
      ]
     },
     "execution_count": 29,
     "metadata": {},
     "output_type": "execute_result"
    }
   ],
   "source": [
    "(m1/n1) * (m2/n2)"
   ]
  },
  {
   "cell_type": "markdown",
   "id": "9133b8a7",
   "metadata": {},
   "source": [
    "Вероятность того что все мячи белые примерно равна 30.5 %"
   ]
  },
  {
   "cell_type": "markdown",
   "id": "f2ee3d27",
   "metadata": {},
   "source": [
    "Какова вероятность того, что ровно два мяча белые?"
   ]
  },
  {
   "cell_type": "markdown",
   "id": "459e3664",
   "metadata": {},
   "source": [
    "P = m/n, где m - число благоприятных исходов, n - общее число исходов. Благоприятный исход - когда мы достали 2 белых в первой корзине и ни одного белого во второй(то есть два из 7 в первой и ноль из 9 во второй) либо когда мы достали ни одного белого в первой корзине и два белых во второй(то есть ноль из 7 в первой и два из 9 во второй) либо когда мы достали 1 белый в первой корзине и один белый во второй(то есть один из 7 в первой и один из 9 во второй). Тогда вероятность того что ровно два мяча белые будет равна сумме вероятности события A (достать два белых мяча из первой корзины и ни одного из второй), вероятности события B (достать два белых мяча из второй корзины и ни одного из первой) и вероятности события C (по одному мячу в каждой из корзин - то есть в каждой корзине один белый и один черный). То есть P = P(A) +  P(B) + P(C), P(A) = (m1/n1) * (m11/n11), P(B) = (m2/n2) * (m22/n22), P(C) = (m3 * m333/n3) * (m33 * m3333/n33)."
   ]
  },
  {
   "cell_type": "code",
   "execution_count": 30,
   "id": "2a465ee3",
   "metadata": {},
   "outputs": [],
   "source": [
    "def combinations(k, n):\n",
    "    return factorial(n)/(factorial(k) * factorial(n - k))"
   ]
  },
  {
   "cell_type": "code",
   "execution_count": 40,
   "id": "c07d2d79",
   "metadata": {},
   "outputs": [],
   "source": [
    "m1 = combinations(2,7)\n",
    "n1 = combinations(2,10)\n",
    "m11 = combinations(2, 2)\n",
    "n11 = combinations(2, 11)"
   ]
  },
  {
   "cell_type": "code",
   "execution_count": 41,
   "id": "8ebd38e0",
   "metadata": {},
   "outputs": [],
   "source": [
    "m2 = combinations(2,3)\n",
    "n2 = combinations(2,10)\n",
    "m22 = combinations(2, 9)\n",
    "n22 = combinations(2, 11)"
   ]
  },
  {
   "cell_type": "code",
   "execution_count": 43,
   "id": "4af36903",
   "metadata": {},
   "outputs": [],
   "source": [
    "m3 = combinations(1,7)\n",
    "m333 = combinations(1, 3)\n",
    "n3 = combinations(2,10)\n",
    "m33 = combinations(1, 9)\n",
    "m3333 = combinations(1, 2)\n",
    "n33 = combinations(2, 11)"
   ]
  },
  {
   "cell_type": "code",
   "execution_count": 44,
   "id": "3e3e7283",
   "metadata": {},
   "outputs": [],
   "source": [
    "P = (m1/n1)*(m11/n11) + (m2/n2)*(m22/n22) + ((m3 * m333)/n3)*((m33 * m3333)/n33)"
   ]
  },
  {
   "cell_type": "code",
   "execution_count": 45,
   "id": "062b7d95",
   "metadata": {},
   "outputs": [
    {
     "data": {
      "text/plain": [
       "0.20484848484848486"
      ]
     },
     "execution_count": 45,
     "metadata": {},
     "output_type": "execute_result"
    }
   ],
   "source": [
    "P"
   ]
  },
  {
   "cell_type": "markdown",
   "id": "2703e077",
   "metadata": {},
   "source": [
    "Вероятность того что ровно два мяча белые примерно равна 20.5 %"
   ]
  },
  {
   "cell_type": "markdown",
   "id": "2164df33",
   "metadata": {},
   "source": [
    "Какова вероятность того, что хотя бы один мяч белый?"
   ]
  },
  {
   "cell_type": "markdown",
   "id": "a9e1a2e0",
   "metadata": {},
   "source": [
    "P1 + P = 1 - сумма вероятностей противоположных событий равна 1. Следовательно вероятность что мы достанем хотя бы один белый мяч будет равна: P1 = 1 - P, где P - вероятность того, что мы не достанем ни одного белого мяча.\n",
    "P = (m1/n1) * (m2/n2)"
   ]
  },
  {
   "cell_type": "code",
   "execution_count": 47,
   "id": "90c67ac6",
   "metadata": {},
   "outputs": [],
   "source": [
    "m1 = combinations(2, 3)\n",
    "n1 = combinations(2, 10)\n",
    "m2 = combinations(2, 2)\n",
    "n2 = combinations(2, 11)"
   ]
  },
  {
   "cell_type": "code",
   "execution_count": 48,
   "id": "65c1bd69",
   "metadata": {},
   "outputs": [],
   "source": [
    "P = (m1/n1) * (m2/n2)"
   ]
  },
  {
   "cell_type": "code",
   "execution_count": 49,
   "id": "02388d18",
   "metadata": {},
   "outputs": [
    {
     "data": {
      "text/plain": [
       "0.0012121212121212121"
      ]
     },
     "execution_count": 49,
     "metadata": {},
     "output_type": "execute_result"
    }
   ],
   "source": [
    "P"
   ]
  },
  {
   "cell_type": "code",
   "execution_count": 50,
   "id": "c9a3cdb8",
   "metadata": {},
   "outputs": [],
   "source": [
    "P1 = 1 - P"
   ]
  },
  {
   "cell_type": "code",
   "execution_count": 51,
   "id": "025e26e6",
   "metadata": {},
   "outputs": [
    {
     "data": {
      "text/plain": [
       "0.9987878787878788"
      ]
     },
     "execution_count": 51,
     "metadata": {},
     "output_type": "execute_result"
    }
   ],
   "source": [
    "P1"
   ]
  },
  {
   "cell_type": "markdown",
   "id": "90afd40f",
   "metadata": {},
   "source": [
    "Вероятность того что мы достанем хотя бы один белый мяч примерно равна 99.9 %"
   ]
  }
 ],
 "metadata": {
  "kernelspec": {
   "display_name": "Python 3 (ipykernel)",
   "language": "python",
   "name": "python3"
  },
  "language_info": {
   "codemirror_mode": {
    "name": "ipython",
    "version": 3
   },
   "file_extension": ".py",
   "mimetype": "text/x-python",
   "name": "python",
   "nbconvert_exporter": "python",
   "pygments_lexer": "ipython3",
   "version": "3.10.9"
  }
 },
 "nbformat": 4,
 "nbformat_minor": 5
}
