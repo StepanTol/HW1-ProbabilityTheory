{
 "cells": [
  {
   "cell_type": "code",
   "execution_count": 115,
   "id": "306333a9",
   "metadata": {},
   "outputs": [],
   "source": [
    "import numpy as np\n",
    "import pandas as pd"
   ]
  },
  {
   "cell_type": "markdown",
   "id": "671586ff",
   "metadata": {},
   "source": [
    "### Задача 1. \n",
    "Даны значения зарплат из выборки выпускников: 100, 80, 75, 77, 89, 33, 45, 25, 65, 17, 30, 24, 57, 55, 70, 75, 65, 84, 90, 150. Посчитать (желательно без использования статистических методов наподобие std, var, mean) среднее арифметическое, среднее квадратичное отклонение, смещенную и несмещенную оценки дисперсий для данной выборки."
   ]
  },
  {
   "cell_type": "code",
   "execution_count": 12,
   "id": "e85de97a",
   "metadata": {},
   "outputs": [],
   "source": [
    "df = np.array([100, 80, 75, 77, 89, 33, 45, 25, 65, 17, 30, 24, 57, 55, 70, 75, 65, 84, 90, 150])"
   ]
  },
  {
   "cell_type": "code",
   "execution_count": 14,
   "id": "bf0ae75c",
   "metadata": {},
   "outputs": [],
   "source": [
    "df.sort()"
   ]
  },
  {
   "cell_type": "code",
   "execution_count": 15,
   "id": "c78d8a3d",
   "metadata": {},
   "outputs": [
    {
     "data": {
      "text/plain": [
       "array([ 17,  24,  25,  30,  33,  45,  55,  57,  65,  65,  70,  75,  75,\n",
       "        77,  80,  84,  89,  90, 100, 150])"
      ]
     },
     "execution_count": 15,
     "metadata": {},
     "output_type": "execute_result"
    }
   ],
   "source": [
    "df"
   ]
  },
  {
   "cell_type": "markdown",
   "id": "2753936a",
   "metadata": {},
   "source": [
    "Среднее арифметическое равно:"
   ]
  },
  {
   "cell_type": "code",
   "execution_count": 31,
   "id": "7375c8ba",
   "metadata": {},
   "outputs": [],
   "source": [
    "list = [ 17,  24,  25,  30,  33,  45,  55,  57,  65,  65,  70,  75,  75,\n",
    "        77,  80,  84,  89,  90, 100, 150]\n",
    "\n",
    "sum = 0\n",
    "n = 20\n",
    "\n",
    "for num in list:\n",
    "    sum += num"
   ]
  },
  {
   "cell_type": "code",
   "execution_count": 64,
   "id": "8fa7650a",
   "metadata": {},
   "outputs": [
    {
     "name": "stdout",
     "output_type": "stream",
     "text": [
      "65.3\n"
     ]
    }
   ],
   "source": [
    "average = sum/n\n",
    "print(average)"
   ]
  },
  {
   "cell_type": "markdown",
   "id": "0b7c87f5",
   "metadata": {},
   "source": [
    "Среднее квадратичное отклонение:"
   ]
  },
  {
   "cell_type": "code",
   "execution_count": 74,
   "id": "57d07d5e",
   "metadata": {},
   "outputs": [],
   "source": [
    "from math import sqrt\n",
    "list = [ 17,  24,  25,  30,  33,  45,  55,  57,  65,  65,  70,  75,  75,\n",
    "        77,  80,  84,  89,  90, 100, 150]\n",
    "\n",
    "x1 = 0\n",
    "\n",
    "for item in list:\n",
    "    x1 = x1 + (item - average)**2\n",
    "    sko = sqrt(x1/len(list))"
   ]
  },
  {
   "cell_type": "code",
   "execution_count": 81,
   "id": "9d5c13d4",
   "metadata": {},
   "outputs": [
    {
     "name": "stdout",
     "output_type": "stream",
     "text": [
      "30.823854398825596\n"
     ]
    }
   ],
   "source": [
    "print(sko)"
   ]
  },
  {
   "cell_type": "markdown",
   "id": "c22a5fb5",
   "metadata": {},
   "source": [
    "Смещенная и несмещенная оценки дисперсий для данной выборки:"
   ]
  },
  {
   "cell_type": "code",
   "execution_count": 88,
   "id": "f71b1f4f",
   "metadata": {},
   "outputs": [],
   "source": [
    "list = [ 17,  24,  25,  30,  33,  45,  55,  57,  65,  65,  70,  75,  75,\n",
    "        77,  80,  84,  89,  90, 100, 150]\n",
    "\n",
    "x1 = 0\n",
    "\n",
    "for item in list:\n",
    "    x1 = x1 + (item - average)**2\n",
    "    S1 = x1/len(list)"
   ]
  },
  {
   "cell_type": "code",
   "execution_count": 89,
   "id": "ff00bcb3",
   "metadata": {},
   "outputs": [
    {
     "data": {
      "text/plain": [
       "950.11"
      ]
     },
     "execution_count": 89,
     "metadata": {},
     "output_type": "execute_result"
    }
   ],
   "source": [
    "S1"
   ]
  },
  {
   "cell_type": "code",
   "execution_count": 90,
   "id": "1f192c95",
   "metadata": {},
   "outputs": [],
   "source": [
    "list = [ 17,  24,  25,  30,  33,  45,  55,  57,  65,  65,  70,  75,  75,\n",
    "        77,  80,  84,  89,  90, 100, 150]\n",
    "\n",
    "x2 = 0\n",
    "\n",
    "for item in list:\n",
    "    x2 = x1 + (item - average)**2\n",
    "    S2 = x1/(len(list) - 1)"
   ]
  },
  {
   "cell_type": "code",
   "execution_count": 91,
   "id": "7e5e3fb8",
   "metadata": {},
   "outputs": [
    {
     "data": {
      "text/plain": [
       "1000.1157894736842"
      ]
     },
     "execution_count": 91,
     "metadata": {},
     "output_type": "execute_result"
    }
   ],
   "source": [
    "S2"
   ]
  },
  {
   "cell_type": "markdown",
   "id": "3406e2cc",
   "metadata": {},
   "source": [
    "### Задача 2. \n",
    "В первом ящике находится 8 мячей, из которых 5 - белые. Во втором ящике - 12 мячей, из которых 5 белых. Из первого ящика вытаскивают случайным образом два мяча, из второго - 4 мяча. Какова вероятность того, что 3 мяча белые?"
   ]
  },
  {
   "cell_type": "markdown",
   "id": "35d664e9",
   "metadata": {},
   "source": [
    "Формула полной вероятности - P = P(A/B1) * P(B1) + P(A/B2) * P(B2) + P(A/B3) * P(B3)\n",
    "P(B1) - вероятность что не достанем ни одного белого мяча из корзины 1, P(A/B1) - вероятность того что достанем 3 белых мяча из корзины два при выполнении предыдущего условия, P(B2) - вероятность что достанем один белый мяч из корзины 1, P(A/B2) - вероятность того что достанем 2 белых мяча из корзины два при выполнении предыдущего условия, P(B3) - вероятность что достанем два белых мяча из корзины 1, P(A/B3) - вероятность того что достанем 1 белый мяч из корзины два при выполнении предыдущего условия."
   ]
  },
  {
   "cell_type": "code",
   "execution_count": 116,
   "id": "2cf15027",
   "metadata": {},
   "outputs": [],
   "source": [
    "from math import factorial"
   ]
  },
  {
   "cell_type": "code",
   "execution_count": 120,
   "id": "90ecfde8",
   "metadata": {},
   "outputs": [],
   "source": [
    "def combinations(k, n1):\n",
    "    return factorial(n1)/(factorial(k) * factorial(n1 - k))"
   ]
  },
  {
   "cell_type": "code",
   "execution_count": 128,
   "id": "eb8a3005",
   "metadata": {},
   "outputs": [
    {
     "data": {
      "text/plain": [
       "0.01818181818181818"
      ]
     },
     "execution_count": 128,
     "metadata": {},
     "output_type": "execute_result"
    }
   ],
   "source": [
    "C34 = combinations(3, 4)\n",
    "C312 = combinations(3, 12)\n",
    "C34/C312"
   ]
  },
  {
   "cell_type": "code",
   "execution_count": 129,
   "id": "24eadb94",
   "metadata": {},
   "outputs": [
    {
     "data": {
      "text/plain": [
       "0.03571428571428571"
      ]
     },
     "execution_count": 129,
     "metadata": {},
     "output_type": "execute_result"
    }
   ],
   "source": [
    "C05 = combinations(0, 5)\n",
    "C28 = combinations(2, 8)\n",
    "C05/C28"
   ]
  },
  {
   "cell_type": "code",
   "execution_count": 130,
   "id": "57cceebf",
   "metadata": {},
   "outputs": [
    {
     "data": {
      "text/plain": [
       "0.02727272727272727"
      ]
     },
     "execution_count": 130,
     "metadata": {},
     "output_type": "execute_result"
    }
   ],
   "source": [
    "C24 = combinations(2, 4)\n",
    "C312 = combinations(3, 12)\n",
    "C24/C312"
   ]
  },
  {
   "cell_type": "code",
   "execution_count": 131,
   "id": "dc858e8d",
   "metadata": {},
   "outputs": [
    {
     "data": {
      "text/plain": [
       "0.17857142857142858"
      ]
     },
     "execution_count": 131,
     "metadata": {},
     "output_type": "execute_result"
    }
   ],
   "source": [
    "C15 = combinations(1, 5)\n",
    "C28 = combinations(2, 8)\n",
    "C15/C28"
   ]
  },
  {
   "cell_type": "code",
   "execution_count": 134,
   "id": "301b707a",
   "metadata": {},
   "outputs": [
    {
     "data": {
      "text/plain": [
       "0.01818181818181818"
      ]
     },
     "execution_count": 134,
     "metadata": {},
     "output_type": "execute_result"
    }
   ],
   "source": [
    "C14 = combinations(1, 4)\n",
    "C312 = combinations(3, 12)\n",
    "C14/C312"
   ]
  },
  {
   "cell_type": "code",
   "execution_count": 135,
   "id": "b7c8991e",
   "metadata": {},
   "outputs": [
    {
     "data": {
      "text/plain": [
       "0.35714285714285715"
      ]
     },
     "execution_count": 135,
     "metadata": {},
     "output_type": "execute_result"
    }
   ],
   "source": [
    "C25 = combinations(2, 5)\n",
    "C28 = combinations(2, 8)\n",
    "C25/C28"
   ]
  },
  {
   "cell_type": "code",
   "execution_count": 137,
   "id": "1c7c0080",
   "metadata": {},
   "outputs": [
    {
     "data": {
      "text/plain": [
       "0.012012987012987014"
      ]
     },
     "execution_count": 137,
     "metadata": {},
     "output_type": "execute_result"
    }
   ],
   "source": [
    "P = (C34/C312) * (C05/C28) + (C24/C312) * (C15/C28) + (C14/C312) * (C25/C28)\n",
    "P"
   ]
  },
  {
   "cell_type": "markdown",
   "id": "6cf3dc64",
   "metadata": {},
   "source": [
    "Вероятность того, что 3 мяча белые примерно равна 1.2 %"
   ]
  },
  {
   "cell_type": "markdown",
   "id": "dcd5054f",
   "metadata": {},
   "source": [
    "### Задача 3. \n",
    "На соревновании по биатлону один из трех спортсменов стреляет и попадает в мишень. Вероятность попадания для первого спортсмена равна 0.9, для второго — 0.8, для третьего — 0.6. Найти вероятность того, что выстрел произведен: a). первым спортсменом б). вторым спортсменом в). третьим спортсменом."
   ]
  },
  {
   "cell_type": "markdown",
   "id": "58d2a9a8",
   "metadata": {},
   "source": [
    "Будем использовать формулу Байеса, так как необходимо найти вероятность того какой спортсмен произвел выстрел, при том что сам выстрел уже произведен(то есть найти вероятность события B, при том что событие A уже произошло). "
   ]
  },
  {
   "cell_type": "markdown",
   "id": "e45584eb",
   "metadata": {},
   "source": [
    "Формула Байеса: P(B1/A) = (P(A/B1) * P(B1))/P(A), где P(B1/A) - вероятность того, что произведенный выстрел сделал n-й спортсмен, P(A/B1) - вероятность того что будет произведен выстрел при условии что зафиксирован стрелок, P(B1) - вероятность попадания спортсмена, P(A) - полная вероятность что выстрел произведен."
   ]
  },
  {
   "cell_type": "markdown",
   "id": "ef0451af",
   "metadata": {},
   "source": [
    "P(A) = P(A/B1) * P(B1) + P(A/B2) * P(B2) + P(A/B3) * P(B3)"
   ]
  },
  {
   "cell_type": "code",
   "execution_count": 152,
   "id": "249c0a78",
   "metadata": {},
   "outputs": [],
   "source": [
    "def combinations(x1, y1, x2, y2, x3, y3):\n",
    "    return x1 * y1 + x2*y2 + x3*y3"
   ]
  },
  {
   "cell_type": "code",
   "execution_count": 155,
   "id": "a3891c7e",
   "metadata": {},
   "outputs": [
    {
     "data": {
      "text/plain": [
       "0.7666666666666666"
      ]
     },
     "execution_count": 155,
     "metadata": {},
     "output_type": "execute_result"
    }
   ],
   "source": [
    "PA = combinations(1/3, 0.9, 1/3, 0.8, 1/3, 0.6)\n",
    "PA"
   ]
  },
  {
   "cell_type": "markdown",
   "id": "af6058dd",
   "metadata": {},
   "source": [
    "P(B1/A) = (P(A/B1) * P(B1))/P(A)"
   ]
  },
  {
   "cell_type": "code",
   "execution_count": 157,
   "id": "2d62dc47",
   "metadata": {},
   "outputs": [],
   "source": [
    "def combinations(x, y, z):\n",
    "    return (x*y)/z"
   ]
  },
  {
   "cell_type": "code",
   "execution_count": 159,
   "id": "ec85d64b",
   "metadata": {},
   "outputs": [
    {
     "data": {
      "text/plain": [
       "0.3896103896103896"
      ]
     },
     "execution_count": 159,
     "metadata": {},
     "output_type": "execute_result"
    }
   ],
   "source": [
    "P1 = combinations(1/3, 0.9, 0.77)\n",
    "P1"
   ]
  },
  {
   "cell_type": "code",
   "execution_count": 160,
   "id": "c748b75c",
   "metadata": {},
   "outputs": [
    {
     "data": {
      "text/plain": [
       "0.3463203463203463"
      ]
     },
     "execution_count": 160,
     "metadata": {},
     "output_type": "execute_result"
    }
   ],
   "source": [
    "P2 = combinations(1/3, 0.8, 0.77)\n",
    "P2"
   ]
  },
  {
   "cell_type": "code",
   "execution_count": 161,
   "id": "daf19114",
   "metadata": {},
   "outputs": [
    {
     "data": {
      "text/plain": [
       "0.2597402597402597"
      ]
     },
     "execution_count": 161,
     "metadata": {},
     "output_type": "execute_result"
    }
   ],
   "source": [
    "P3 = combinations(1/3, 0.6, 0.77)\n",
    "P3"
   ]
  },
  {
   "cell_type": "markdown",
   "id": "4c2fee22",
   "metadata": {},
   "source": [
    "Вероятности примерно равны 39 %, 35% и 26%"
   ]
  },
  {
   "cell_type": "markdown",
   "id": "dd2571ae",
   "metadata": {},
   "source": [
    "### Задача 4. \n",
    "В университет на факультеты A и B поступило равное количество студентов, а на факультет C студентов поступило столько же, сколько на A и B вместе. Вероятность того, что студент факультета A сдаст первую сессию, равна 0.8. Для студента факультета B эта вероятность равна 0.7, а для студента факультета C - 0.9. Студент сдал первую сессию. Какова вероятность, что он учится: a). на факультете A б). на факультете B в). на факультете C?"
   ]
  },
  {
   "cell_type": "markdown",
   "id": "1fa16bc2",
   "metadata": {},
   "source": [
    "Как и в предыдущей задаче воспользуемся формулой Байеса. \n",
    "\n",
    "Формула Байеса: P(B1/A) = (P(A/B1) * P(B1))/P(A), где P(B1/A) - вероятность того, что студент сдавший экзамен учится на n-м факультете, P(A/B1) - вероятность того что студент поступил при условии что зафиксирован факультет, P(B1) - вероятность студента сдать сессию, P(A) - полная вероятность что экзамен сдан."
   ]
  },
  {
   "cell_type": "markdown",
   "id": "6b9192e8",
   "metadata": {},
   "source": [
    "P(A) = P(A/B1) * P(B1) + P(A/B2) * P(B2) + P(A/B3) * P(B3)"
   ]
  },
  {
   "cell_type": "code",
   "execution_count": 164,
   "id": "61350dde",
   "metadata": {},
   "outputs": [],
   "source": [
    "def combinations(x1, y1, x2, y2, x3, y3):\n",
    "    return x1 * y1 + x2*y2 + x3*y3"
   ]
  },
  {
   "cell_type": "markdown",
   "id": "2c3b76eb",
   "metadata": {},
   "source": [
    "x1, x2, x3 - будут равны 0.25, 0.25 и 0.5 соответсвенно. "
   ]
  },
  {
   "cell_type": "code",
   "execution_count": 165,
   "id": "349ec310",
   "metadata": {},
   "outputs": [
    {
     "data": {
      "text/plain": [
       "0.825"
      ]
     },
     "execution_count": 165,
     "metadata": {},
     "output_type": "execute_result"
    }
   ],
   "source": [
    "PA = combinations(0.25, 0.8, 0.25, 0.7, 0.5, 0.9)\n",
    "PA"
   ]
  },
  {
   "cell_type": "markdown",
   "id": "c9311e8c",
   "metadata": {},
   "source": [
    "P(B1/A) = (P(A/B1) * P(B1))/P(A)"
   ]
  },
  {
   "cell_type": "code",
   "execution_count": 166,
   "id": "b12c226c",
   "metadata": {},
   "outputs": [],
   "source": [
    "def combinations(x, y, z):\n",
    "    return (x*y)/z"
   ]
  },
  {
   "cell_type": "code",
   "execution_count": 167,
   "id": "e8de0608",
   "metadata": {},
   "outputs": [
    {
     "data": {
      "text/plain": [
       "0.24242424242424246"
      ]
     },
     "execution_count": 167,
     "metadata": {},
     "output_type": "execute_result"
    }
   ],
   "source": [
    "Pa = combinations(0.25, 0.8, 0.825)\n",
    "Pa"
   ]
  },
  {
   "cell_type": "code",
   "execution_count": 168,
   "id": "096d0509",
   "metadata": {},
   "outputs": [
    {
     "data": {
      "text/plain": [
       "0.21212121212121213"
      ]
     },
     "execution_count": 168,
     "metadata": {},
     "output_type": "execute_result"
    }
   ],
   "source": [
    "Pb = combinations(0.25, 0.7, 0.825)\n",
    "Pb"
   ]
  },
  {
   "cell_type": "code",
   "execution_count": 169,
   "id": "d91e18b8",
   "metadata": {},
   "outputs": [
    {
     "data": {
      "text/plain": [
       "0.5454545454545455"
      ]
     },
     "execution_count": 169,
     "metadata": {},
     "output_type": "execute_result"
    }
   ],
   "source": [
    "Pc = combinations(0.5, 0.9, 0.825)\n",
    "Pc"
   ]
  },
  {
   "cell_type": "markdown",
   "id": "93629880",
   "metadata": {},
   "source": [
    "Вероятности примерно равны 24.2 %, 21.2% и 54.6%"
   ]
  },
  {
   "cell_type": "markdown",
   "id": "ec77f470",
   "metadata": {},
   "source": [
    "### Задача 5. \n",
    "Устройство состоит из трех деталей. Для первой детали вероятность выйти из строя в первый месяц равна 0.1, для второй - 0.2, для третьей - 0.25. Какова вероятность того, что в первый месяц выйдут из строя: а). все детали б). только две детали в). хотя бы одна деталь г). от одной до двух деталей?"
   ]
  },
  {
   "cell_type": "markdown",
   "id": "71659427",
   "metadata": {},
   "source": [
    "1) Выйдут из строя все детали"
   ]
  },
  {
   "cell_type": "code",
   "execution_count": 195,
   "id": "d2811055",
   "metadata": {},
   "outputs": [],
   "source": [
    "P1 = 0.1\n",
    "P2 = 0.2\n",
    "P3 = 0.25\n",
    "P = P1 * P2 * P3"
   ]
  },
  {
   "cell_type": "code",
   "execution_count": 196,
   "id": "91c58e05",
   "metadata": {},
   "outputs": [
    {
     "data": {
      "text/plain": [
       "'0.5%'"
      ]
     },
     "execution_count": 196,
     "metadata": {},
     "output_type": "execute_result"
    }
   ],
   "source": [
    "result = f\"{P:.1%}\"\n",
    "result"
   ]
  },
  {
   "cell_type": "markdown",
   "id": "ba5b60c3",
   "metadata": {},
   "source": [
    "2. Выйдут из строя только две детали"
   ]
  },
  {
   "cell_type": "code",
   "execution_count": 204,
   "id": "0a6ef848",
   "metadata": {},
   "outputs": [],
   "source": [
    "P = P1 * P2 * (1 - P3) + P1 * P3 * (1 - P2) + P2 * P3 * (1 - P1)"
   ]
  },
  {
   "cell_type": "code",
   "execution_count": 205,
   "id": "485a2017",
   "metadata": {},
   "outputs": [
    {
     "data": {
      "text/plain": [
       "'8.0%'"
      ]
     },
     "execution_count": 205,
     "metadata": {},
     "output_type": "execute_result"
    }
   ],
   "source": [
    "result = f\"{P:.1%}\"\n",
    "result"
   ]
  },
  {
   "cell_type": "markdown",
   "id": "9576d641",
   "metadata": {},
   "source": [
    "3. Выйдет из строя хотя бы одна деталь"
   ]
  },
  {
   "cell_type": "code",
   "execution_count": 206,
   "id": "eb953e6f",
   "metadata": {},
   "outputs": [
    {
     "data": {
      "text/plain": [
       "'46.0%'"
      ]
     },
     "execution_count": 206,
     "metadata": {},
     "output_type": "execute_result"
    }
   ],
   "source": [
    "P = 1 - (1 - P1) * (1 - P2) * (1 - P3)\n",
    "result = f\"{P:.1%}\"\n",
    "result"
   ]
  },
  {
   "cell_type": "markdown",
   "id": "8cf5fdf0",
   "metadata": {},
   "source": [
    "4. Выйдет из строя от одной до двух деталей"
   ]
  },
  {
   "cell_type": "code",
   "execution_count": 215,
   "id": "8de51d28",
   "metadata": {},
   "outputs": [],
   "source": [
    "P = P1 * (1 - P2) * (1 - P3) + P2 * (1 - P1) * (1 - P3) + P3 * (1 - P1) * (1 - P2) +\\\n",
    "    P1 * P2 * (1 - P3) + P1 * P3 * (1 - P2) + P2 * P3 * (1 - P1)"
   ]
  },
  {
   "cell_type": "code",
   "execution_count": 219,
   "id": "23188834",
   "metadata": {},
   "outputs": [
    {
     "data": {
      "text/plain": [
       "'45.5%'"
      ]
     },
     "execution_count": 219,
     "metadata": {},
     "output_type": "execute_result"
    }
   ],
   "source": [
    "result = f\"{P:.1%}\"\n",
    "result"
   ]
  },
  {
   "cell_type": "code",
   "execution_count": null,
   "id": "dbb04741",
   "metadata": {},
   "outputs": [],
   "source": []
  }
 ],
 "metadata": {
  "kernelspec": {
   "display_name": "Python 3 (ipykernel)",
   "language": "python",
   "name": "python3"
  },
  "language_info": {
   "codemirror_mode": {
    "name": "ipython",
    "version": 3
   },
   "file_extension": ".py",
   "mimetype": "text/x-python",
   "name": "python",
   "nbconvert_exporter": "python",
   "pygments_lexer": "ipython3",
   "version": "3.10.9"
  }
 },
 "nbformat": 4,
 "nbformat_minor": 5
}
