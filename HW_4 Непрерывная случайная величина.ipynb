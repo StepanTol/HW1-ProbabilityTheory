{
 "cells": [
  {
   "cell_type": "code",
   "execution_count": 1,
   "id": "28a1b15a",
   "metadata": {},
   "outputs": [],
   "source": [
    "import pandas as pd\n",
    "import numpy as np\n",
    "from scipy import stats"
   ]
  },
  {
   "cell_type": "markdown",
   "id": "a9967892",
   "metadata": {},
   "source": [
    "Модуль scipy содержит реализацию основных функций для разных распределений:\n",
    "\n",
    "***binom*** - биномиальное\n",
    "\n",
    "***poisson*** - пуасоновское\n",
    "\n",
    "***geom*** - геометрическое\n",
    "\n",
    "***norm*** - нормальное\n",
    "\n",
    "***uniform*** - непрерывное равномерное\n",
    "\n",
    "Доступные функции:\n",
    "\n",
    "***pmf*** - закон распределения для дискретных величин\n",
    "\n",
    "***pdf*** - функция плотности для непрерывных величин\n",
    "\n",
    "***cdf*** - функция распределения\n",
    "\n",
    "***ppf*** - квантильная функция(обратная к функции распределения)"
   ]
  },
  {
   "cell_type": "markdown",
   "id": "d009747a",
   "metadata": {},
   "source": [
    "### Задача 1. \n",
    "Случайная непрерывная величина A имеет равномерное распределение на\n",
    "промежутке (200, 800].\n",
    "Найдите ее среднее значение и дисперсию."
   ]
  },
  {
   "cell_type": "code",
   "execution_count": 11,
   "id": "d3caaa4b",
   "metadata": {},
   "outputs": [],
   "source": [
    "def uniform(a, b):\n",
    "    return f'Среднее значение: M(X) = {(a + b)/2:.0f}\\nДисперсия: D(X) = {((b - a)**2)/12:.0f}'"
   ]
  },
  {
   "cell_type": "code",
   "execution_count": 12,
   "id": "357262bf",
   "metadata": {},
   "outputs": [
    {
     "name": "stdout",
     "output_type": "stream",
     "text": [
      "Среднее значение: M(X) = 500\n",
      "Дисперсия: D(X) = 30000\n"
     ]
    }
   ],
   "source": [
    "print(uniform(200, 800))"
   ]
  },
  {
   "cell_type": "markdown",
   "id": "4d4b4090",
   "metadata": {},
   "source": [
    "### Задача 2. \n",
    "О случайной непрерывной равномерно распределенной величине B известно, что ее\n",
    "дисперсия равна 0.2.\n",
    "Можно ли найти правую границу величины B и ее среднее значение зная, что левая\n",
    "граница равна 0.5?\n",
    "Если да, найдите ее."
   ]
  },
  {
   "cell_type": "markdown",
   "id": "d184382b",
   "metadata": {},
   "source": [
    "D(B) = ((b - a)^2)/12, отсюда получаем что b = sqrt(D(B)*12) + a - правая граница величины B\n",
    "\n",
    "M(B) = (a + b)/2 - среднее значение величины B"
   ]
  },
  {
   "cell_type": "code",
   "execution_count": 8,
   "id": "810d050f",
   "metadata": {},
   "outputs": [],
   "source": [
    "def uniform(a, D):\n",
    "    return f'правая граница: b = {(D*12)**(1/2) + a}'"
   ]
  },
  {
   "cell_type": "code",
   "execution_count": 9,
   "id": "57099ed9",
   "metadata": {},
   "outputs": [
    {
     "name": "stdout",
     "output_type": "stream",
     "text": [
      "правая граница: b = 2.049193338482967\n"
     ]
    }
   ],
   "source": [
    "print(uniform(0.5, 0.2))"
   ]
  },
  {
   "cell_type": "code",
   "execution_count": 10,
   "id": "5e4484b4",
   "metadata": {},
   "outputs": [
    {
     "name": "stdout",
     "output_type": "stream",
     "text": [
      "Среднее значение: M(B) = 1.2745\n"
     ]
    }
   ],
   "source": [
    "a = 0.5\n",
    "b = 2.049\n",
    "M = (a + b)/2\n",
    "print(f'Среднее значение: M(B) = {M}')"
   ]
  },
  {
   "cell_type": "markdown",
   "id": "596fc13a",
   "metadata": {},
   "source": [
    "### Задача 3. \n",
    "Непрерывная случайная величина X распределена нормально и задана плотностью\n",
    "распределения\n",
    "f(x) = (1 / (4 * sqrt(2pi))) * exp((-(x+2)**2) / 32)\n",
    "Найдите:\n",
    "а). M(X)\n",
    "б). D(X)\n",
    "в). std(X) (среднее квадратичное отклонение)"
   ]
  },
  {
   "attachments": {},
   "cell_type": "markdown",
   "id": "3482b0d9",
   "metadata": {},
   "source": [
    "Случайная величина распределена нормально и по условию задана с помощью распределения Гаусса. M(X) = -2; D(X) = 16; std(X) = 4"
   ]
  },
  {
   "cell_type": "markdown",
   "id": "b11ad075",
   "metadata": {},
   "source": [
    "### Задача 4. \n",
    "Рост взрослого населения города X имеет нормальное распределение, причем, средний рост равен 174 см, а среднее квадратическое отклонение равно 8 см. посчитайте, какова вероятность того, что случайным образом выбранный взрослый человек имеет рост:\n",
    "1. больше 182 см?\n",
    "\n",
    "2. больше 190 см?\n",
    "\n",
    "3. от 166 см до 190 см?\n",
    "\n",
    "4. от 166 см до 182 см?\n",
    "\n",
    "5. от 158 см до 190 см?\n",
    "\n",
    "6. не выше 150 см или не ниже 190 см?\n",
    "\n",
    "7. не выше 150 см или не ниже 198 см?\n",
    "\n",
    "8. ниже 166 см?\n",
    "\n",
    "Задачу можно решить двумя способами: без использования сторонних библиотек (numpy, scipy, pandas и пр.), а затем проверить себя с помощью встроенных функций"
   ]
  },
  {
   "cell_type": "markdown",
   "id": "ae2ef80a",
   "metadata": {},
   "source": [
    "Функция распределения вероятностей F(X) = P(X < x). Для того чтобы найти вероятность, необходимо найти количество стандартных отклонений от среднего значения(Z) - Z = (X - x1)/sigma, где x1 - среднее значение. затем находим по таблице z-значений вероятность и считаем ответ."
   ]
  },
  {
   "cell_type": "code",
   "execution_count": 27,
   "id": "fa6517ef",
   "metadata": {},
   "outputs": [],
   "source": [
    "def z_value(item):\n",
    "    return (item - 174)/8"
   ]
  },
  {
   "cell_type": "markdown",
   "id": "cdbcfe21",
   "metadata": {},
   "source": [
    "Пункт первый"
   ]
  },
  {
   "cell_type": "code",
   "execution_count": 48,
   "id": "0a122e52",
   "metadata": {},
   "outputs": [
    {
     "name": "stdout",
     "output_type": "stream",
     "text": [
      "1.0\n"
     ]
    }
   ],
   "source": [
    "print(z_value(182))"
   ]
  },
  {
   "cell_type": "code",
   "execution_count": 53,
   "id": "f9e6b67e",
   "metadata": {},
   "outputs": [
    {
     "name": "stdout",
     "output_type": "stream",
     "text": [
      "0.15866000000000002\n"
     ]
    }
   ],
   "source": [
    "P = 1 - 0.84134\n",
    "print(P)"
   ]
  },
  {
   "cell_type": "markdown",
   "id": "3015bbe8",
   "metadata": {},
   "source": [
    "Пункт второй"
   ]
  },
  {
   "cell_type": "code",
   "execution_count": 29,
   "id": "5dfbdae0",
   "metadata": {},
   "outputs": [
    {
     "name": "stdout",
     "output_type": "stream",
     "text": [
      "2.0\n"
     ]
    }
   ],
   "source": [
    "print(z_value(190))"
   ]
  },
  {
   "cell_type": "code",
   "execution_count": 54,
   "id": "4e0270b8",
   "metadata": {},
   "outputs": [
    {
     "name": "stdout",
     "output_type": "stream",
     "text": [
      "0.022750000000000048\n"
     ]
    }
   ],
   "source": [
    "P = 1 - 0.97725\n",
    "print(P)"
   ]
  },
  {
   "cell_type": "markdown",
   "id": "0b244872",
   "metadata": {},
   "source": [
    "Пункт третий"
   ]
  },
  {
   "cell_type": "code",
   "execution_count": 31,
   "id": "e5dc44b0",
   "metadata": {},
   "outputs": [
    {
     "name": "stdout",
     "output_type": "stream",
     "text": [
      "2.0\n"
     ]
    }
   ],
   "source": [
    "z1 = z_value(190)\n",
    "print(z1)"
   ]
  },
  {
   "cell_type": "code",
   "execution_count": 33,
   "id": "cc0b59c3",
   "metadata": {},
   "outputs": [
    {
     "name": "stdout",
     "output_type": "stream",
     "text": [
      "-1.0\n"
     ]
    }
   ],
   "source": [
    "z2 = z_value(166)\n",
    "print(z2)"
   ]
  },
  {
   "cell_type": "code",
   "execution_count": 55,
   "id": "c796c528",
   "metadata": {},
   "outputs": [
    {
     "data": {
      "text/plain": [
       "0.8185899999999999"
      ]
     },
     "execution_count": 55,
     "metadata": {},
     "output_type": "execute_result"
    }
   ],
   "source": [
    "P = 0.97725 - 0.15866\n",
    "P"
   ]
  },
  {
   "cell_type": "markdown",
   "id": "3e6b0b24",
   "metadata": {},
   "source": [
    "Пункт четвертый"
   ]
  },
  {
   "cell_type": "code",
   "execution_count": 34,
   "id": "bb7038ab",
   "metadata": {},
   "outputs": [
    {
     "name": "stdout",
     "output_type": "stream",
     "text": [
      "1.0\n"
     ]
    }
   ],
   "source": [
    "z1 = z_value(182)\n",
    "print(z1)"
   ]
  },
  {
   "cell_type": "code",
   "execution_count": 35,
   "id": "14a7735b",
   "metadata": {},
   "outputs": [
    {
     "name": "stdout",
     "output_type": "stream",
     "text": [
      "-1.0\n"
     ]
    }
   ],
   "source": [
    "z2 = z_value(166)\n",
    "print(z2)"
   ]
  },
  {
   "cell_type": "code",
   "execution_count": 56,
   "id": "10ae6c03",
   "metadata": {},
   "outputs": [
    {
     "data": {
      "text/plain": [
       "0.68268"
      ]
     },
     "execution_count": 56,
     "metadata": {},
     "output_type": "execute_result"
    }
   ],
   "source": [
    "P = 0.84134 - 0.15866\n",
    "P"
   ]
  },
  {
   "cell_type": "markdown",
   "id": "750ef52d",
   "metadata": {},
   "source": [
    "Пункт пятый"
   ]
  },
  {
   "cell_type": "code",
   "execution_count": 36,
   "id": "b276c431",
   "metadata": {},
   "outputs": [
    {
     "name": "stdout",
     "output_type": "stream",
     "text": [
      "2.0\n"
     ]
    }
   ],
   "source": [
    "z1 = z_value(190)\n",
    "print(z1)"
   ]
  },
  {
   "cell_type": "code",
   "execution_count": 37,
   "id": "b95e60b6",
   "metadata": {},
   "outputs": [
    {
     "name": "stdout",
     "output_type": "stream",
     "text": [
      "-2.0\n"
     ]
    }
   ],
   "source": [
    "z2 = z_value(158)\n",
    "print(z2)"
   ]
  },
  {
   "cell_type": "code",
   "execution_count": 57,
   "id": "6e7318a0",
   "metadata": {},
   "outputs": [
    {
     "data": {
      "text/plain": [
       "0.9544999999999999"
      ]
     },
     "execution_count": 57,
     "metadata": {},
     "output_type": "execute_result"
    }
   ],
   "source": [
    "P = 0.97725 - 0.02275\n",
    "P"
   ]
  },
  {
   "cell_type": "markdown",
   "id": "53b251a2",
   "metadata": {},
   "source": [
    "Пункт шестой"
   ]
  },
  {
   "cell_type": "code",
   "execution_count": 38,
   "id": "6c741bc3",
   "metadata": {},
   "outputs": [
    {
     "name": "stdout",
     "output_type": "stream",
     "text": [
      "2.0\n"
     ]
    }
   ],
   "source": [
    "z1 = z_value(190)\n",
    "print(z1)"
   ]
  },
  {
   "cell_type": "code",
   "execution_count": 39,
   "id": "6774cce3",
   "metadata": {},
   "outputs": [
    {
     "name": "stdout",
     "output_type": "stream",
     "text": [
      "-3.0\n"
     ]
    }
   ],
   "source": [
    "z2 = z_value(150)\n",
    "print(z2)"
   ]
  },
  {
   "cell_type": "code",
   "execution_count": 58,
   "id": "fa5dd071",
   "metadata": {},
   "outputs": [
    {
     "data": {
      "text/plain": [
       "0.02410000000000005"
      ]
     },
     "execution_count": 58,
     "metadata": {},
     "output_type": "execute_result"
    }
   ],
   "source": [
    "P = 1 - 0.97725 + 0.00135\n",
    "P"
   ]
  },
  {
   "cell_type": "markdown",
   "id": "b2f4b802",
   "metadata": {},
   "source": [
    "Пункт седьмой"
   ]
  },
  {
   "cell_type": "code",
   "execution_count": 40,
   "id": "d4d9f1e3",
   "metadata": {},
   "outputs": [
    {
     "name": "stdout",
     "output_type": "stream",
     "text": [
      "3.0\n"
     ]
    }
   ],
   "source": [
    "z1 = z_value(198)\n",
    "print(z1)"
   ]
  },
  {
   "cell_type": "code",
   "execution_count": 41,
   "id": "03abbb28",
   "metadata": {},
   "outputs": [
    {
     "name": "stdout",
     "output_type": "stream",
     "text": [
      "-3.0\n"
     ]
    }
   ],
   "source": [
    "z2 = z_value(150)\n",
    "print(z2)"
   ]
  },
  {
   "cell_type": "code",
   "execution_count": 59,
   "id": "fca59e65",
   "metadata": {},
   "outputs": [
    {
     "data": {
      "text/plain": [
       "0.0026999999999999624"
      ]
     },
     "execution_count": 59,
     "metadata": {},
     "output_type": "execute_result"
    }
   ],
   "source": [
    "P = 1 - 0.99865 + 0.00135\n",
    "P"
   ]
  },
  {
   "cell_type": "markdown",
   "id": "552f0f17",
   "metadata": {},
   "source": [
    "Пункт восьмой"
   ]
  },
  {
   "cell_type": "code",
   "execution_count": 42,
   "id": "4ccea688",
   "metadata": {},
   "outputs": [
    {
     "name": "stdout",
     "output_type": "stream",
     "text": [
      "-1.0\n"
     ]
    }
   ],
   "source": [
    "z1 = z_value(166)\n",
    "print(z1)"
   ]
  },
  {
   "cell_type": "code",
   "execution_count": 60,
   "id": "cf9b35fd",
   "metadata": {},
   "outputs": [
    {
     "data": {
      "text/plain": [
       "0.15866"
      ]
     },
     "execution_count": 60,
     "metadata": {},
     "output_type": "execute_result"
    }
   ],
   "source": [
    "P = 0.15866\n",
    "P"
   ]
  },
  {
   "cell_type": "markdown",
   "id": "f51221c1",
   "metadata": {},
   "source": [
    "### Задача 5. \n",
    "На сколько сигм (средних квадратичных отклонений) отклоняется рост человека,\n",
    "равный 190 см, от\n",
    "математического ожидания роста в популяции, в которой M(X) = 178 см и D(X) = 25 кв.см?"
   ]
  },
  {
   "cell_type": "markdown",
   "id": "5b327485",
   "metadata": {},
   "source": [
    "Z = (X - M(X))/sigma, sigma = D(X)**(1/2)"
   ]
  },
  {
   "cell_type": "code",
   "execution_count": 63,
   "id": "7124094f",
   "metadata": {},
   "outputs": [
    {
     "name": "stdout",
     "output_type": "stream",
     "text": [
      "количество отклонений: Z = 2.4\n"
     ]
    }
   ],
   "source": [
    "M = 178\n",
    "sigma = 5\n",
    "X = 190\n",
    "print(f'количество отклонений: Z = {(X - M)/sigma}')"
   ]
  }
 ],
 "metadata": {
  "kernelspec": {
   "display_name": "Python 3 (ipykernel)",
   "language": "python",
   "name": "python3"
  },
  "language_info": {
   "codemirror_mode": {
    "name": "ipython",
    "version": 3
   },
   "file_extension": ".py",
   "mimetype": "text/x-python",
   "name": "python",
   "nbconvert_exporter": "python",
   "pygments_lexer": "ipython3",
   "version": "3.10.9"
  }
 },
 "nbformat": 4,
 "nbformat_minor": 5
}
