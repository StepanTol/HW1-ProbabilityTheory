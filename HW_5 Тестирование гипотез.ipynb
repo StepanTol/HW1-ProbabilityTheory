{
 "cells": [
  {
   "cell_type": "code",
   "execution_count": 1,
   "id": "dc1af8b1",
   "metadata": {},
   "outputs": [],
   "source": [
    "import pandas as pd\n",
    "import numpy as np\n",
    "from scipy import stats"
   ]
  },
  {
   "cell_type": "markdown",
   "id": "f296d6f7",
   "metadata": {},
   "source": [
    "### Задача 1. \n",
    "Когда используется критерий Стьюдента, а когда Z –критерий?"
   ]
  },
  {
   "cell_type": "markdown",
   "id": "dfdcf4ea",
   "metadata": {},
   "source": [
    "Критерий Стьюдента используется для сравнения средних значений двух выборок, когда неизвестна дисперсия или средне квадратичное отклонение генеральной совокупности. Использует распределение Стьюдента.\n",
    "\n",
    "Z-критерий используем когда мы знаем эти значения для генеральной совокупности. Использует нормальное распределение чтобы сравнить среднне значение выборки со знначением генеральной совокупности."
   ]
  },
  {
   "cell_type": "markdown",
   "id": "eb273711",
   "metadata": {},
   "source": [
    "### Задача 2. \n",
    "Проведите тест гипотезы. Утверждается, что шарики для подшипников, изготовленные\n",
    "автоматическим станком, имеют средний диаметр 17 мм.\n",
    "Используя односторонний критерий с α=0,05, проверить эту гипотезу, если в выборке из\n",
    "n=100 шариков средний диаметр\n",
    "оказался равным 17.5 мм, а дисперсия генеральной совокупности известна и равна 4 кв. мм."
   ]
  },
  {
   "cell_type": "markdown",
   "id": "691324a8",
   "metadata": {},
   "source": [
    "1) Сформулируем нулевую и альтернативную гипотезы:\n",
    "    \n",
    "    H0: M1 = M0\n",
    "        \n",
    "    H1: M1 > M0"
   ]
  },
  {
   "cell_type": "markdown",
   "id": "8876da29",
   "metadata": {},
   "source": [
    "2. Уровень значимости: alpha = 0.05"
   ]
  },
  {
   "cell_type": "markdown",
   "id": "ef90b7da",
   "metadata": {},
   "source": [
    "3. Так как тест у нас правосторонний и сигма генеральной совокупности нам известна и равна sqrt(D) = 2, то для оценки воспользуемся z-критерием. "
   ]
  },
  {
   "cell_type": "code",
   "execution_count": 3,
   "id": "5a562af4",
   "metadata": {},
   "outputs": [
    {
     "name": "stdout",
     "output_type": "stream",
     "text": [
      "2.5\n"
     ]
    }
   ],
   "source": [
    "M1 = 17.5\n",
    "M0 = 17\n",
    "sigma = 2\n",
    "n = 100\n",
    "Z1 = ((M1 - M0)/sigma)*np.sqrt(n)\n",
    "print(Z)"
   ]
  },
  {
   "cell_type": "markdown",
   "id": "0b8811f5",
   "metadata": {},
   "source": [
    "Найдем табличное значение z, которое равно площади под кривой: 1 - alpha = 0.95, что примерно равно: Z0 = 1.645"
   ]
  },
  {
   "cell_type": "markdown",
   "id": "35b027b8",
   "metadata": {},
   "source": [
    "Так как мы прводили правосторонний тест, то гипотеза H1 будет верна при попадании Z1 в область значений больших чем Z0. Так как Z1 > Z0, то мы принимаем альтернативную гипотезу."
   ]
  },
  {
   "cell_type": "markdown",
   "id": "6def8ef6",
   "metadata": {},
   "source": [
    "### Задача 3. \n",
    "Проведите тест гипотезы. Продавец утверждает, что средний вес пачки печенья\n",
    "составляет 200 г.\n",
    "Из партии извлечена выборка из 10 пачек. Вес каждой пачки составляет:\n",
    "202, 203, 199, 197, 195, 201, 200, 204, 194, 190.\n",
    "Известно, что их веса распределены нормально.\n",
    "Верно ли утверждение продавца, если учитывать, что уровень значимости 1%? (Провести двусторонний тест.)"
   ]
  },
  {
   "cell_type": "markdown",
   "id": "640a54b4",
   "metadata": {},
   "source": [
    "1. Двусторонний тест:\n",
    "    \n",
    "    H0: M1 = M0\n",
    "    \n",
    "    H1: M1 != M0"
   ]
  },
  {
   "cell_type": "markdown",
   "id": "00ee6af3",
   "metadata": {},
   "source": [
    "2. Уровень значимости: alpha = 0.01"
   ]
  },
  {
   "cell_type": "markdown",
   "id": "3f9a965f",
   "metadata": {},
   "source": [
    "3. Так как выборка одна, а сигма генеральной совокупности нам неизвестна, будем использовать для оценки гипотезы t-критерий. "
   ]
  },
  {
   "cell_type": "code",
   "execution_count": 9,
   "id": "eb3e5059",
   "metadata": {},
   "outputs": [
    {
     "data": {
      "text/plain": [
       "198.5"
      ]
     },
     "execution_count": 9,
     "metadata": {},
     "output_type": "execute_result"
    }
   ],
   "source": [
    "list = np.array([202, 203, 199, 197, 195, 201, 200, 204, 194, 190])\n",
    "M1 = list.mean()\n",
    "M1"
   ]
  },
  {
   "cell_type": "code",
   "execution_count": 11,
   "id": "01b8d5db",
   "metadata": {},
   "outputs": [
    {
     "data": {
      "text/plain": [
       "4.453463071962462"
      ]
     },
     "execution_count": 11,
     "metadata": {},
     "output_type": "execute_result"
    }
   ],
   "source": [
    "sigma = list.std(ddof=1)\n",
    "sigma"
   ]
  },
  {
   "cell_type": "code",
   "execution_count": 20,
   "id": "7b60cc8b",
   "metadata": {},
   "outputs": [
    {
     "data": {
      "text/plain": [
       "-1.0651074037450896"
      ]
     },
     "execution_count": 20,
     "metadata": {},
     "output_type": "execute_result"
    }
   ],
   "source": [
    "n = 10\n",
    "M1 = 198.5\n",
    "sigma = 4.453463071962462\n",
    "M0 = 200\n",
    "t1 = ((M1 - M0)/sigma)*np.sqrt(n)\n",
    "t1"
   ]
  },
  {
   "cell_type": "markdown",
   "id": "757157d8",
   "metadata": {},
   "source": [
    "Для двустороннего теста критическая область составляет: (-inf, t(alpha/2)) и (inf, t(1 - alpha/2)). alpha/2 = 0.005, значит вероятность P = 1 - alpha/2 = 0.995, количество степеней совбоды равно n-1 = 9. По таблице Стьюдента tкр = 3.25."
   ]
  },
  {
   "cell_type": "markdown",
   "id": "5260c2a5",
   "metadata": {},
   "source": [
    "Так как t1 не попадает в критическую область, мы не отвергаем нулевую гипотезу H0."
   ]
  },
  {
   "cell_type": "markdown",
   "id": "f0faa678",
   "metadata": {},
   "source": [
    "### Задача 4.\n",
    "Есть ли статистически значимые различия в среднем росте матерей и\n",
    "дочерей?\n",
    "Рост матерей 172, 177, 158, 170, 178,175, 164, 160, 169, 165\n",
    "Рост взрослых дочерей: 173, 175, 162, 174, 175, 168, 155, 170, 160, 163"
   ]
  },
  {
   "cell_type": "code",
   "execution_count": 23,
   "id": "0e1dd820",
   "metadata": {},
   "outputs": [],
   "source": [
    "list1 = np.array([172, 177, 158, 170, 178,175, 164, 160, 169, 165])\n",
    "list2 = np.array([173, 175, 162, 174, 175, 168, 155, 170, 160, 163])\n",
    "alpha = 0.05"
   ]
  },
  {
   "cell_type": "markdown",
   "id": "9bcc700b",
   "metadata": {},
   "source": [
    "H0: M1 = M2\n",
    "\n",
    "H1: M1 != M2"
   ]
  },
  {
   "cell_type": "code",
   "execution_count": 22,
   "id": "9fdfde65",
   "metadata": {},
   "outputs": [
    {
     "data": {
      "text/plain": [
       "Ttest_indResult(statistic=0.4138411497680053, pvalue=0.68387966499013)"
      ]
     },
     "execution_count": 22,
     "metadata": {},
     "output_type": "execute_result"
    }
   ],
   "source": [
    "stats.ttest_ind(list1, list2)"
   ]
  },
  {
   "cell_type": "markdown",
   "id": "a015cdf3",
   "metadata": {},
   "source": [
    "Так как pvalue > alpha, мы не отвергаем нулевую гипотезу H0. Следовательно делаем вывод что статистически значимых различий не наблюдается. "
   ]
  },
  {
   "cell_type": "code",
   "execution_count": null,
   "id": "26bfbd3b",
   "metadata": {},
   "outputs": [],
   "source": []
  }
 ],
 "metadata": {
  "kernelspec": {
   "display_name": "Python 3 (ipykernel)",
   "language": "python",
   "name": "python3"
  },
  "language_info": {
   "codemirror_mode": {
    "name": "ipython",
    "version": 3
   },
   "file_extension": ".py",
   "mimetype": "text/x-python",
   "name": "python",
   "nbconvert_exporter": "python",
   "pygments_lexer": "ipython3",
   "version": "3.10.9"
  }
 },
 "nbformat": 4,
 "nbformat_minor": 5
}
