{
 "cells": [
  {
   "cell_type": "code",
   "execution_count": 1,
   "id": "df85290d",
   "metadata": {},
   "outputs": [],
   "source": [
    "import numpy as np\n",
    "import pandas as pd\n",
    "from scipy import stats"
   ]
  },
  {
   "cell_type": "markdown",
   "id": "af8c37e3",
   "metadata": {},
   "source": [
    "### Задача 1. \n",
    "Известно, что генеральная совокупность распределена нормально\n",
    "со средним квадратическим отклонением, равным 16.\n",
    "Найти доверительный интервал для оценки математического ожидания с надежностью\n",
    "0.95,\n",
    "если выборочная средняя M = 80, а объем выборки n = 256."
   ]
  },
  {
   "cell_type": "markdown",
   "id": "e618ba29",
   "metadata": {},
   "source": [
    "Воспользуемся формулой подсчета доверительного интервала для оценки математического ожидания, когда известна сигма генеральной совокупности:\n",
    "\n",
    "M + Z(alpha/2)*(sigma/sqrt(n))\n",
    "\n",
    "M - Z(alpha/2)*(sigma/sqrt(n))"
   ]
  },
  {
   "cell_type": "code",
   "execution_count": 7,
   "id": "16cb5b58",
   "metadata": {},
   "outputs": [
    {
     "name": "stdout",
     "output_type": "stream",
     "text": [
      "Доверительный интервал:(78.04; 81.96)\n"
     ]
    }
   ],
   "source": [
    "M = 80\n",
    "Z = 1.96\n",
    "sigma = 16\n",
    "n = 256\n",
    "print(f'Доверительный интервал:({M - Z*(sigma/np.sqrt(n))}; {M + Z*(sigma/np.sqrt(n))})')"
   ]
  },
  {
   "cell_type": "markdown",
   "id": "c0c72b2f",
   "metadata": {},
   "source": [
    "### Задача 2. \n",
    "В результате 10 независимых измерений некоторой величины X, выполненных с\n",
    "одинаковой точностью,\n",
    "получены опытные данные:\n",
    "6.9, 6.1, 6.2, 6.8, 7.5, 6.3, 6.4, 6.9, 6.7, 6.1\n",
    "Предполагая, что результаты измерений подчинены нормальному закону распределения\n",
    "вероятностей,\n",
    "оценить истинное значение величины X при помощи доверительного интервала,\n",
    "покрывающего это\n",
    "значение с доверительной вероятностью 0,95."
   ]
  },
  {
   "cell_type": "markdown",
   "id": "220c1336",
   "metadata": {},
   "source": [
    "Формула для оценки доверительного интервала, когда сигма неизвестна:\n",
    "    \n",
    "M + t(alpha/2)*(sigma/sqrt(n))\n",
    "\n",
    "M - t(alpha/2)*(sigma/sqrt(n))"
   ]
  },
  {
   "cell_type": "code",
   "execution_count": 9,
   "id": "fb1e0ef5",
   "metadata": {},
   "outputs": [],
   "source": [
    "list = np.array([6.9, 6.1, 6.2, 6.8, 7.5, 6.3, 6.4, 6.9, 6.7, 6.1])"
   ]
  },
  {
   "cell_type": "code",
   "execution_count": 16,
   "id": "3dadc2c5",
   "metadata": {},
   "outputs": [
    {
     "data": {
      "text/plain": [
       "0.4508017549014448"
      ]
     },
     "execution_count": 16,
     "metadata": {},
     "output_type": "execute_result"
    }
   ],
   "source": [
    "sigma = np.std(list, ddof = 1)\n",
    "sigma"
   ]
  },
  {
   "cell_type": "markdown",
   "id": "4f2c7599",
   "metadata": {},
   "source": [
    "Вычислим критерий стьюдента(для этого посчитаем число степеней свободы и alpha/2):"
   ]
  },
  {
   "cell_type": "code",
   "execution_count": 15,
   "id": "351e4e31",
   "metadata": {},
   "outputs": [
    {
     "data": {
      "text/plain": [
       "9"
      ]
     },
     "execution_count": 15,
     "metadata": {},
     "output_type": "execute_result"
    }
   ],
   "source": [
    "n = 10\n",
    "df = n - 1\n",
    "df"
   ]
  },
  {
   "cell_type": "markdown",
   "id": "205ba644",
   "metadata": {},
   "source": [
    "Критерий Стьюдента для df = 9 и p(alpha/2) = 0.975 равен t(alpha/2) = 2.262"
   ]
  },
  {
   "cell_type": "code",
   "execution_count": 17,
   "id": "00918b59",
   "metadata": {},
   "outputs": [
    {
     "data": {
      "text/plain": [
       "6.590000000000001"
      ]
     },
     "execution_count": 17,
     "metadata": {},
     "output_type": "execute_result"
    }
   ],
   "source": [
    "M = list.mean()\n",
    "M"
   ]
  },
  {
   "cell_type": "code",
   "execution_count": 22,
   "id": "be3f8137",
   "metadata": {},
   "outputs": [
    {
     "name": "stdout",
     "output_type": "stream",
     "text": [
      "Доверительный интервал: (6.27;6.91)\n"
     ]
    }
   ],
   "source": [
    "M = 6.59\n",
    "n = 10\n",
    "sigma = 0.451\n",
    "t = 2.262\n",
    "print(f'Доверительный интервал: ({M - t*(sigma/np.sqrt(n)):.2f};{M + t*(sigma/np.sqrt(n)):.2f})')"
   ]
  },
  {
   "cell_type": "markdown",
   "id": "01bad4fc",
   "metadata": {},
   "source": [
    "### Задача 3. \n",
    "Рост дочерей 175, 167, 154, 174, 178, 148, 160, 167, 169, 170\n",
    "\n",
    "Рост матерей 178, 165, 165, 173, 168, 155, 160, 164, 178, 175\n",
    "\n",
    "Используя эти данные построить 95% доверительный интервал для разности среднего\n",
    "роста родителей и детей."
   ]
  },
  {
   "cell_type": "markdown",
   "id": "f02b88fb",
   "metadata": {},
   "source": [
    "Используем формулу построения доверительного интервала для разности математических ожиданий:\n",
    "    \n",
    "    delta + t(alpha/2) * S(delta)\n",
    "    delta - t(alpha/2) * S(delta)"
   ]
  },
  {
   "cell_type": "code",
   "execution_count": 52,
   "id": "1b5c92de",
   "metadata": {},
   "outputs": [],
   "source": [
    "list1 = np.array([175, 167, 154, 174, 178, 148, 160, 167, 169, 170])\n",
    "list2 = np.array([178, 165, 165, 173, 168, 155, 160, 164, 178, 175])"
   ]
  },
  {
   "cell_type": "code",
   "execution_count": 53,
   "id": "1b052f6d",
   "metadata": {},
   "outputs": [
    {
     "data": {
      "text/plain": [
       "166.2"
      ]
     },
     "execution_count": 53,
     "metadata": {},
     "output_type": "execute_result"
    }
   ],
   "source": [
    "M1 = list1.mean()\n",
    "M1"
   ]
  },
  {
   "cell_type": "code",
   "execution_count": 54,
   "id": "e8e20e2d",
   "metadata": {},
   "outputs": [
    {
     "data": {
      "text/plain": [
       "168.1"
      ]
     },
     "execution_count": 54,
     "metadata": {},
     "output_type": "execute_result"
    }
   ],
   "source": [
    "M2 = list2.mean()\n",
    "M2"
   ]
  },
  {
   "cell_type": "code",
   "execution_count": 55,
   "id": "74970003",
   "metadata": {},
   "outputs": [
    {
     "data": {
      "text/plain": [
       "1.9000000000000057"
      ]
     },
     "execution_count": 55,
     "metadata": {},
     "output_type": "execute_result"
    }
   ],
   "source": [
    "delta = M2 - M1\n",
    "delta"
   ]
  },
  {
   "cell_type": "code",
   "execution_count": 56,
   "id": "adcec474",
   "metadata": {},
   "outputs": [
    {
     "data": {
      "text/plain": [
       "2.10092204024096"
      ]
     },
     "execution_count": 56,
     "metadata": {},
     "output_type": "execute_result"
    }
   ],
   "source": [
    "t = stats.t.ppf(0.975, 18)\n",
    "t"
   ]
  },
  {
   "cell_type": "code",
   "execution_count": 57,
   "id": "ae3835ed",
   "metadata": {},
   "outputs": [
    {
     "data": {
      "text/plain": [
       "91.06666666666666"
      ]
     },
     "execution_count": 57,
     "metadata": {},
     "output_type": "execute_result"
    }
   ],
   "source": [
    "D1 = np.var(list1, ddof = 1)\n",
    "D1"
   ]
  },
  {
   "cell_type": "code",
   "execution_count": 58,
   "id": "af53ad79",
   "metadata": {},
   "outputs": [
    {
     "data": {
      "text/plain": [
       "60.10000000000001"
      ]
     },
     "execution_count": 58,
     "metadata": {},
     "output_type": "execute_result"
    }
   ],
   "source": [
    "D2 = np.var(list2, ddof = 1)\n",
    "D2"
   ]
  },
  {
   "cell_type": "code",
   "execution_count": 59,
   "id": "e61aa227",
   "metadata": {},
   "outputs": [
    {
     "data": {
      "text/plain": [
       "75.58333333333334"
      ]
     },
     "execution_count": 59,
     "metadata": {},
     "output_type": "execute_result"
    }
   ],
   "source": [
    "D = (D1 + D2)/2\n",
    "D"
   ]
  },
  {
   "cell_type": "code",
   "execution_count": 60,
   "id": "13c12896",
   "metadata": {},
   "outputs": [
    {
     "data": {
      "text/plain": [
       "3.8880157750022915"
      ]
     },
     "execution_count": 60,
     "metadata": {},
     "output_type": "execute_result"
    }
   ],
   "source": [
    "n1 = 10\n",
    "n2 = 10\n",
    "S = np.sqrt((D/n1) + (D/n2))\n",
    "S"
   ]
  },
  {
   "cell_type": "code",
   "execution_count": 61,
   "id": "289f72b1",
   "metadata": {},
   "outputs": [
    {
     "name": "stdout",
     "output_type": "stream",
     "text": [
      "Доверительный интервал: (-6.268;10.068)\n"
     ]
    }
   ],
   "source": [
    "print(f'Доверительный интервал: ({delta - t * S:.3f};{delta + t * S:.3f})')"
   ]
  },
  {
   "cell_type": "code",
   "execution_count": null,
   "id": "dcb0d800",
   "metadata": {},
   "outputs": [],
   "source": []
  }
 ],
 "metadata": {
  "kernelspec": {
   "display_name": "Python 3 (ipykernel)",
   "language": "python",
   "name": "python3"
  },
  "language_info": {
   "codemirror_mode": {
    "name": "ipython",
    "version": 3
   },
   "file_extension": ".py",
   "mimetype": "text/x-python",
   "name": "python",
   "nbconvert_exporter": "python",
   "pygments_lexer": "ipython3",
   "version": "3.10.9"
  }
 },
 "nbformat": 4,
 "nbformat_minor": 5
}
