{
 "cells": [
  {
   "cell_type": "code",
   "execution_count": 1,
   "id": "c1bb8895",
   "metadata": {},
   "outputs": [],
   "source": [
    "import numpy as np\n",
    "import pandas as pd\n",
    "from scipy import stats"
   ]
  },
  {
   "cell_type": "markdown",
   "id": "7ffa350f",
   "metadata": {},
   "source": [
    "### Задача 1. \n",
    "Даны две независимые выборки. Не соблюдается условие нормальности\n",
    "\n",
    "x1 380,420, 290\n",
    "\n",
    "y1 140,360,200,900\n",
    "\n",
    "Сделайте вывод по результатам, полученным с помощью функции, имеются ли статистические различия между группами?"
   ]
  },
  {
   "cell_type": "markdown",
   "id": "cba9d8cd",
   "metadata": {},
   "source": [
    "Так как две независимые выборки, используем критерий Манна-Уитни."
   ]
  },
  {
   "cell_type": "code",
   "execution_count": 17,
   "id": "1d37c0f3",
   "metadata": {},
   "outputs": [
    {
     "data": {
      "text/plain": [
       "MannwhitneyuResult(statistic=8.0, pvalue=0.6285714285714286)"
      ]
     },
     "execution_count": 17,
     "metadata": {},
     "output_type": "execute_result"
    }
   ],
   "source": [
    "x1 = np.array([380, 420, 290])\n",
    "y1 = np.array([140, 360, 200, 900])\n",
    "alpha = 0.05\n",
    "\n",
    "stats.mannwhitneyu(x1, y1)"
   ]
  },
  {
   "cell_type": "markdown",
   "id": "e59ac250",
   "metadata": {},
   "source": [
    "Так как pvalue > alpha, мы принимаем нулевую гипотезу, а значит статистических различий между группами нет. "
   ]
  },
  {
   "cell_type": "markdown",
   "id": "10409dac",
   "metadata": {},
   "source": [
    "### Задача 2. \n",
    "Исследовалось влияние препарата на уровень давления пациентов. Сначала\n",
    "измерялось давление до приема препарата, потом через 10 минут и через 30 минут. Есть\n",
    "ли статистически значимые различия между измерениями давления? В выборках не соблюдается условие нормальности.\n",
    "1е измерение до приема препарата: 150, 160, 165, 145, 155\n",
    "2е измерение через 10 минут: 140, 155, 150, 130, 135\n",
    "3е измерение через 30 минут: 130, 130, 120, 130, 125"
   ]
  },
  {
   "cell_type": "code",
   "execution_count": 7,
   "id": "e5dbf9a0",
   "metadata": {},
   "outputs": [],
   "source": [
    "x0 = np.array([150, 160, 165, 145, 155])\n",
    "x10 = np.array([140, 155, 150, 130, 135])\n",
    "x30 = np.array([130, 130, 120, 130, 125])\n",
    "alpha = 0.05"
   ]
  },
  {
   "cell_type": "markdown",
   "id": "af39b586",
   "metadata": {},
   "source": [
    "Делаем анализ повторных измерений, а значит используем критерий Фридмана. "
   ]
  },
  {
   "cell_type": "code",
   "execution_count": 8,
   "id": "b7a63fcc",
   "metadata": {},
   "outputs": [
    {
     "data": {
      "text/plain": [
       "FriedmanchisquareResult(statistic=9.578947368421062, pvalue=0.00831683351100441)"
      ]
     },
     "execution_count": 8,
     "metadata": {},
     "output_type": "execute_result"
    }
   ],
   "source": [
    "stats.friedmanchisquare(x0, x10, x30)"
   ]
  },
  {
   "cell_type": "markdown",
   "id": "d9d7e69e",
   "metadata": {},
   "source": [
    "Так как pvalue < alpha, мы отвергаем H0, а значит есть статистически значимые различия между измерениями давления."
   ]
  },
  {
   "cell_type": "markdown",
   "id": "b65e5e41",
   "metadata": {},
   "source": [
    "### Задача 3. \n",
    "Сравните 1 и 2 е измерения, предполагая, что 3го измерения через 30 минут не было. Есть\n",
    "ли статистически значимые различия между измерениями давления?"
   ]
  },
  {
   "cell_type": "markdown",
   "id": "e192f30e",
   "metadata": {},
   "source": [
    "Две зависимые выборки - критерий Уилкоксона"
   ]
  },
  {
   "cell_type": "code",
   "execution_count": 16,
   "id": "236c1e6a",
   "metadata": {},
   "outputs": [
    {
     "data": {
      "text/plain": [
       "WilcoxonResult(statistic=0.0, pvalue=0.0625)"
      ]
     },
     "execution_count": 16,
     "metadata": {},
     "output_type": "execute_result"
    }
   ],
   "source": [
    "x0 = np.array([150, 160, 165, 145, 155])\n",
    "x10 = np.array([140, 155, 150, 130, 135])\n",
    "alpha = 0.05\n",
    "\n",
    "\n",
    "stats.wilcoxon(x0, x10)"
   ]
  },
  {
   "cell_type": "markdown",
   "id": "8129f2b0",
   "metadata": {},
   "source": [
    "pvalue > alpha, H0 верна - статистически значимых различий нет."
   ]
  },
  {
   "cell_type": "markdown",
   "id": "d477e659",
   "metadata": {},
   "source": [
    "### Задача 4. \n",
    "Даны 3 группы учеников плавания. Не соблюдается условие нормальности.\n",
    "В 1 группе время на дистанцию 50 м составляют:\n",
    "56, 60, 62, 55, 71, 67, 59, 58, 64, 67\n",
    "Вторая группа : 57, 58, 69, 48, 72, 70, 68, 71, 50, 53\n",
    "Третья группа: 57, 67, 49, 48, 47, 55, 66, 51, 54\n",
    "Есть\n",
    "ли статистически значимые различия между группами?"
   ]
  },
  {
   "cell_type": "markdown",
   "id": "3fc465be",
   "metadata": {},
   "source": [
    "3 независимые группы - критерий Крускала-Уоллиса. "
   ]
  },
  {
   "cell_type": "code",
   "execution_count": 19,
   "id": "0937c766",
   "metadata": {},
   "outputs": [
    {
     "data": {
      "text/plain": [
       "KruskalResult(statistic=5.465564058257224, pvalue=0.0650380998590494)"
      ]
     },
     "execution_count": 19,
     "metadata": {},
     "output_type": "execute_result"
    }
   ],
   "source": [
    "x1 = ([56, 60, 62, 55, 71, 67, 59, 58, 64, 67])\n",
    "x2 = ([57, 58, 69, 48, 72, 70, 68, 71, 50, 53])\n",
    "x3 = ([57, 67, 49, 48, 47, 55, 66, 51, 54])\n",
    "alpha = 0.05\n",
    "\n",
    "\n",
    "stats.kruskal(x1, x2, x3)"
   ]
  },
  {
   "cell_type": "markdown",
   "id": "f4d23052",
   "metadata": {},
   "source": [
    "pvalue > alpha, значит принимаем H0 - различий нет"
   ]
  },
  {
   "cell_type": "markdown",
   "id": "4f1ee5be",
   "metadata": {},
   "source": [
    "### Задача 5. \n",
    "Заявляется, что партия изготавливается со средним арифметическим 2,5 см. Проверить\n",
    "данную гипотезу, если известно, что размеры изделий подчинены нормальному закону\n",
    "распределения. Объем выборки 10, уровень статистической значимости 5%\n",
    "2.51, 2.35, 2.74, 2.56, 2.40, 2.36, 2.65, 2.7, 2.67, 2.34"
   ]
  },
  {
   "cell_type": "code",
   "execution_count": 23,
   "id": "9c3596cc",
   "metadata": {},
   "outputs": [],
   "source": [
    "list1 = np.array([2.51, 2.35, 2.74, 2.56, 2.40, 2.36, 2.65, 2.7, 2.67, 2.34])"
   ]
  },
  {
   "cell_type": "markdown",
   "id": "06de1b72",
   "metadata": {},
   "source": [
    "H0: M0 = M1\n",
    "\n",
    "H1: M0 != M1"
   ]
  },
  {
   "cell_type": "code",
   "execution_count": 24,
   "id": "73e50a60",
   "metadata": {},
   "outputs": [],
   "source": [
    "alpha = 0.05"
   ]
  },
  {
   "cell_type": "markdown",
   "id": "8b383d78",
   "metadata": {},
   "source": [
    "Так как сигма генеральной совокупности нам неизвестна, используем критерий Стьюдента. "
   ]
  },
  {
   "cell_type": "code",
   "execution_count": 25,
   "id": "805835a3",
   "metadata": {},
   "outputs": [
    {
     "data": {
      "text/plain": [
       "2.5279999999999996"
      ]
     },
     "execution_count": 25,
     "metadata": {},
     "output_type": "execute_result"
    }
   ],
   "source": [
    "M0 = 2.5\n",
    "M1 = list1.mean()\n",
    "M1"
   ]
  },
  {
   "cell_type": "code",
   "execution_count": 26,
   "id": "11bb94df",
   "metadata": {},
   "outputs": [
    {
     "data": {
      "text/plain": [
       "0.1572542173961923"
      ]
     },
     "execution_count": 26,
     "metadata": {},
     "output_type": "execute_result"
    }
   ],
   "source": [
    "sigma = list1.std(ddof = 1)\n",
    "sigma"
   ]
  },
  {
   "cell_type": "code",
   "execution_count": 27,
   "id": "04edf496",
   "metadata": {},
   "outputs": [
    {
     "data": {
      "text/plain": [
       "0.563061366180296"
      ]
     },
     "execution_count": 27,
     "metadata": {},
     "output_type": "execute_result"
    }
   ],
   "source": [
    "n = 10\n",
    "t = ((M1 - M0)/sigma) * np.sqrt(n)\n",
    "t"
   ]
  },
  {
   "cell_type": "markdown",
   "id": "78689125",
   "metadata": {},
   "source": [
    "Так как тест двусторонний: p = 1 - alpha/2 = 0.975, кол-во степеней свободы df = n - 1 = 9. tкр = 2.262"
   ]
  },
  {
   "cell_type": "markdown",
   "id": "5813c5ab",
   "metadata": {},
   "source": [
    "t < tкр, следовательно принимаем H0, а значит что среднее арифметическое равно 2.52 см"
   ]
  },
  {
   "cell_type": "code",
   "execution_count": null,
   "id": "a2d6d668",
   "metadata": {},
   "outputs": [],
   "source": []
  }
 ],
 "metadata": {
  "kernelspec": {
   "display_name": "Python 3 (ipykernel)",
   "language": "python",
   "name": "python3"
  },
  "language_info": {
   "codemirror_mode": {
    "name": "ipython",
    "version": 3
   },
   "file_extension": ".py",
   "mimetype": "text/x-python",
   "name": "python",
   "nbconvert_exporter": "python",
   "pygments_lexer": "ipython3",
   "version": "3.10.9"
  }
 },
 "nbformat": 4,
 "nbformat_minor": 5
}
