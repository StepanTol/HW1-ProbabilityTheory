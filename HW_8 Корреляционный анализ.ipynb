{
 "cells": [
  {
   "cell_type": "code",
   "execution_count": 47,
   "id": "ba88cbad",
   "metadata": {},
   "outputs": [],
   "source": [
    "import pandas as pd\n",
    "import numpy as np\n",
    "from scipy import stats"
   ]
  },
  {
   "cell_type": "markdown",
   "id": "0c27b73e",
   "metadata": {},
   "source": [
    "### Задача 1 \n",
    "Даны значения величины заработной платы заемщиков банка (zp) и значения их\n",
    "поведенческого кредитного скоринга (ks):\n",
    "zp = [35, 45, 190, 200, 40, 70, 54, 150, 120, 110],\n",
    "ks = [401, 574, 874, 919, 459, 739, 653, 902, 746, 832].\n",
    "Найдите ковариацию этих двух величин с помощью элементарных действий, а затем с\n",
    "помощью функции cov из numpy\n",
    "Полученные значения должны быть равны.\n",
    "Найдите коэффициент корреляции Пирсона с помощью ковариации и\n",
    "среднеквадратичных отклонений двух признаков,\n",
    "а затем с использованием функций из библиотек numpy и pandas."
   ]
  },
  {
   "cell_type": "code",
   "execution_count": 14,
   "id": "cf72a455",
   "metadata": {},
   "outputs": [
    {
     "data": {
      "text/plain": [
       "9157.839999999997"
      ]
     },
     "execution_count": 14,
     "metadata": {},
     "output_type": "execute_result"
    }
   ],
   "source": [
    "zp = np.array([35, 45, 190, 200, 40, 70, 54, 150, 120, 110])\n",
    "ks = np.array([401, 574, 874, 919, 459, 739, 653, 902, 746, 832])\n",
    "cov = np.mean(zp * ks) - np.mean(zp) * np.mean(ks)\n",
    "cov"
   ]
  },
  {
   "cell_type": "code",
   "execution_count": 15,
   "id": "7329c655",
   "metadata": {},
   "outputs": [
    {
     "data": {
      "text/plain": [
       "array([[ 3494.64,  9157.84],\n",
       "       [ 9157.84, 30468.89]])"
      ]
     },
     "execution_count": 15,
     "metadata": {},
     "output_type": "execute_result"
    }
   ],
   "source": [
    "np.cov(zp, ks, ddof = 0) # смещенная ковариация"
   ]
  },
  {
   "cell_type": "code",
   "execution_count": 16,
   "id": "8602f4da",
   "metadata": {},
   "outputs": [
    {
     "data": {
      "text/plain": [
       "array([[ 3882.93333333, 10175.37777778],\n",
       "       [10175.37777778, 33854.32222222]])"
      ]
     },
     "execution_count": 16,
     "metadata": {},
     "output_type": "execute_result"
    }
   ],
   "source": [
    "np.cov(zp, ks, ddof = 1) # несмещенная ковариация"
   ]
  },
  {
   "cell_type": "code",
   "execution_count": 19,
   "id": "11054cf4",
   "metadata": {},
   "outputs": [
    {
     "data": {
      "text/plain": [
       "59.115480206118605"
      ]
     },
     "execution_count": 19,
     "metadata": {},
     "output_type": "execute_result"
    }
   ],
   "source": [
    "sigmazp = np.std(zp, ddof = 0)\n",
    "sigmazp"
   ]
  },
  {
   "cell_type": "code",
   "execution_count": 20,
   "id": "5f1312e5",
   "metadata": {},
   "outputs": [
    {
     "data": {
      "text/plain": [
       "174.55340157098058"
      ]
     },
     "execution_count": 20,
     "metadata": {},
     "output_type": "execute_result"
    }
   ],
   "source": [
    "sigmaks = np.std(ks, ddof = 0)\n",
    "sigmaks"
   ]
  },
  {
   "cell_type": "code",
   "execution_count": 21,
   "id": "b04bf619",
   "metadata": {},
   "outputs": [
    {
     "data": {
      "text/plain": [
       "0.8874900920739158"
      ]
     },
     "execution_count": 21,
     "metadata": {},
     "output_type": "execute_result"
    }
   ],
   "source": [
    "corpirs = cov/(sigmazp * sigmaks)\n",
    "corpirs"
   ]
  },
  {
   "cell_type": "code",
   "execution_count": 23,
   "id": "96820e7c",
   "metadata": {},
   "outputs": [
    {
     "data": {
      "text/plain": [
       "62.31318747531162"
      ]
     },
     "execution_count": 23,
     "metadata": {},
     "output_type": "execute_result"
    }
   ],
   "source": [
    "sigmazp1 = np.std(zp, ddof = 1)\n",
    "sigmazp1"
   ]
  },
  {
   "cell_type": "code",
   "execution_count": 24,
   "id": "c3098c74",
   "metadata": {},
   "outputs": [
    {
     "data": {
      "text/plain": [
       "183.99544076477068"
      ]
     },
     "execution_count": 24,
     "metadata": {},
     "output_type": "execute_result"
    }
   ],
   "source": [
    "sigmaks1 = np.std(ks, ddof = 1)\n",
    "sigmaks1"
   ]
  },
  {
   "cell_type": "code",
   "execution_count": 25,
   "id": "d3ba7950",
   "metadata": {},
   "outputs": [
    {
     "data": {
      "text/plain": [
       "0.88749009207411"
      ]
     },
     "execution_count": 25,
     "metadata": {},
     "output_type": "execute_result"
    }
   ],
   "source": [
    "corpirs1 = 10175.37777778/(sigmazp1 * sigmaks1)\n",
    "corpirs1"
   ]
  },
  {
   "cell_type": "code",
   "execution_count": 27,
   "id": "8e5bf4c6",
   "metadata": {},
   "outputs": [
    {
     "data": {
      "text/plain": [
       "array([[1.        , 0.88749009],\n",
       "       [0.88749009, 1.        ]])"
      ]
     },
     "execution_count": 27,
     "metadata": {},
     "output_type": "execute_result"
    }
   ],
   "source": [
    "np.corrcoef(zp, ks)"
   ]
  },
  {
   "cell_type": "markdown",
   "id": "2971c92e",
   "metadata": {},
   "source": [
    "### Задача 2 \n",
    "Измерены значения IQ выборки студентов,\n",
    "обучающихся в местных технических вузах:\n",
    "131, 125, 115, 122, 131, 115, 107, 99, 125, 111.\n",
    "Известно, что в генеральной совокупности IQ распределен нормально.\n",
    "Найдите доверительный интервал для математического ожидания с надежностью 0.95."
   ]
  },
  {
   "cell_type": "code",
   "execution_count": 30,
   "id": "58c94896",
   "metadata": {},
   "outputs": [],
   "source": [
    "IQ = np.array([131, 125, 115, 122, 131, 115, 107, 99, 125, 111])\n",
    "alpha = 0.05"
   ]
  },
  {
   "cell_type": "markdown",
   "id": "e71fe80a",
   "metadata": {},
   "source": [
    "Необходимо найти доверительный интервал для средних арифметических, а так как сигма генеральной совокупности нам неизвестна, то используем формулу: M +- t(alpha/2) * sigma/sqrt(n) "
   ]
  },
  {
   "cell_type": "code",
   "execution_count": 32,
   "id": "f80676c0",
   "metadata": {},
   "outputs": [
    {
     "data": {
      "text/plain": [
       "118.1"
      ]
     },
     "execution_count": 32,
     "metadata": {},
     "output_type": "execute_result"
    }
   ],
   "source": [
    "M = IQ.mean()\n",
    "M"
   ]
  },
  {
   "cell_type": "code",
   "execution_count": 33,
   "id": "6be3b541",
   "metadata": {},
   "outputs": [
    {
     "data": {
      "text/plain": [
       "10.54566788359614"
      ]
     },
     "execution_count": 33,
     "metadata": {},
     "output_type": "execute_result"
    }
   ],
   "source": [
    "sigma = np.std(IQ, ddof = 1)\n",
    "sigma"
   ]
  },
  {
   "cell_type": "code",
   "execution_count": 34,
   "id": "559eb117",
   "metadata": {},
   "outputs": [],
   "source": [
    "n = 10"
   ]
  },
  {
   "cell_type": "code",
   "execution_count": 35,
   "id": "1273ce81",
   "metadata": {},
   "outputs": [
    {
     "data": {
      "text/plain": [
       "2.2621571627409915"
      ]
     },
     "execution_count": 35,
     "metadata": {},
     "output_type": "execute_result"
    }
   ],
   "source": [
    "t = stats.t.ppf(0.975, 9)\n",
    "t"
   ]
  },
  {
   "cell_type": "code",
   "execution_count": 36,
   "id": "9be4046e",
   "metadata": {},
   "outputs": [
    {
     "data": {
      "text/plain": [
       "110.55608365158724"
      ]
     },
     "execution_count": 36,
     "metadata": {},
     "output_type": "execute_result"
    }
   ],
   "source": [
    "M - t * sigma/np.sqrt(n)"
   ]
  },
  {
   "cell_type": "code",
   "execution_count": 37,
   "id": "10adb852",
   "metadata": {},
   "outputs": [
    {
     "data": {
      "text/plain": [
       "125.64391634841274"
      ]
     },
     "execution_count": 37,
     "metadata": {},
     "output_type": "execute_result"
    }
   ],
   "source": [
    "M + t * sigma/np.sqrt(n)"
   ]
  },
  {
   "cell_type": "code",
   "execution_count": 44,
   "id": "1234e8ab",
   "metadata": {},
   "outputs": [
    {
     "name": "stdout",
     "output_type": "stream",
     "text": [
      "Доверительный интервал для математического ожидания: (110.56 ; 125.64)\n"
     ]
    }
   ],
   "source": [
    "print(f'Доверительный интервал для математического ожидания: ({M - t * sigma/np.sqrt(n):.2f} ; {M + t * sigma/np.sqrt(n):.2f})')"
   ]
  },
  {
   "cell_type": "markdown",
   "id": "6234db00",
   "metadata": {},
   "source": [
    "### Задача 3 \n",
    "Известно, что рост футболистов в сборной распределен нормально\n",
    "с дисперсией генеральной совокупности, равной 25 кв.см. Объем выборки равен 27,\n",
    "среднее выборочное составляет 174.2. Найдите доверительный интервал для\n",
    "математического\n",
    "ожидания с надежностью 0.95."
   ]
  },
  {
   "cell_type": "code",
   "execution_count": 45,
   "id": "72999b8f",
   "metadata": {},
   "outputs": [],
   "source": [
    "alpha = 0.05\n",
    "var = 25\n",
    "n = 27\n",
    "M = 174.2"
   ]
  },
  {
   "cell_type": "markdown",
   "id": "aee624d3",
   "metadata": {},
   "source": [
    "Необходимо найти доверительный интервал для средних арифметических, а так как сигма генеральной совокупности нам известна, то используем формулу: M +- z(alpha/2) * sigma/sqrt(n) "
   ]
  },
  {
   "cell_type": "code",
   "execution_count": 50,
   "id": "3acaaece",
   "metadata": {},
   "outputs": [
    {
     "data": {
      "text/plain": [
       "-1.9599639845400545"
      ]
     },
     "execution_count": 50,
     "metadata": {},
     "output_type": "execute_result"
    }
   ],
   "source": [
    "z = stats.norm.ppf(alpha/2)\n",
    "z"
   ]
  },
  {
   "cell_type": "code",
   "execution_count": 51,
   "id": "bcaad6ec",
   "metadata": {},
   "outputs": [
    {
     "data": {
      "text/plain": [
       "176.08597622346028"
      ]
     },
     "execution_count": 51,
     "metadata": {},
     "output_type": "execute_result"
    }
   ],
   "source": [
    "M - z * np.sqrt(var/n)"
   ]
  },
  {
   "cell_type": "code",
   "execution_count": 52,
   "id": "dd32df50",
   "metadata": {},
   "outputs": [
    {
     "data": {
      "text/plain": [
       "172.3140237765397"
      ]
     },
     "execution_count": 52,
     "metadata": {},
     "output_type": "execute_result"
    }
   ],
   "source": [
    "M + z * np.sqrt(var/n)"
   ]
  },
  {
   "cell_type": "code",
   "execution_count": 53,
   "id": "f5e1dbdb",
   "metadata": {},
   "outputs": [
    {
     "name": "stdout",
     "output_type": "stream",
     "text": [
      "Доверительный интервал для средних арифметических: (172.31 ; 176.09)\n"
     ]
    }
   ],
   "source": [
    "print(f'Доверительный интервал для средних арифметических: ({M + z * np.sqrt(var/n):.2f} ; {M - z * np.sqrt(var/n):.2f})')"
   ]
  },
  {
   "cell_type": "code",
   "execution_count": null,
   "id": "020da754",
   "metadata": {},
   "outputs": [],
   "source": []
  }
 ],
 "metadata": {
  "kernelspec": {
   "display_name": "Python 3 (ipykernel)",
   "language": "python",
   "name": "python3"
  },
  "language_info": {
   "codemirror_mode": {
    "name": "ipython",
    "version": 3
   },
   "file_extension": ".py",
   "mimetype": "text/x-python",
   "name": "python",
   "nbconvert_exporter": "python",
   "pygments_lexer": "ipython3",
   "version": "3.10.9"
  }
 },
 "nbformat": 4,
 "nbformat_minor": 5
}
